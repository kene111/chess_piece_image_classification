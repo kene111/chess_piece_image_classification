{
  "nbformat": 4,
  "nbformat_minor": 0,
  "metadata": {
    "colab": {
      "provenance": []
    },
    "kernelspec": {
      "name": "python3",
      "display_name": "Python 3"
    },
    "language_info": {
      "name": "python"
    }
  },
  "cells": [
    {
      "cell_type": "code",
      "execution_count": null,
      "metadata": {
        "id": "pit96_PZpY6p"
      },
      "outputs": [],
      "source": [
        "# !pip install torch torchvision\n",
        "# !pip install opencv-contrib-python"
      ]
    },
    {
      "cell_type": "code",
      "source": [
        "import os"
      ],
      "metadata": {
        "id": "JmB8rW2O3dIe"
      },
      "execution_count": 1,
      "outputs": []
    },
    {
      "cell_type": "code",
      "source": [
        "\n",
        "from google.colab import drive\n",
        "drive.mount('/content/drive')"
      ],
      "metadata": {
        "colab": {
          "base_uri": "https://localhost:8080/"
        },
        "id": "eYzz-N3SrKG-",
        "outputId": "524c9b03-3e84-4b52-a46c-53b3910102db"
      },
      "execution_count": 2,
      "outputs": [
        {
          "output_type": "stream",
          "name": "stdout",
          "text": [
            "Mounted at /content/drive\n"
          ]
        }
      ]
    },
    {
      "cell_type": "code",
      "source": [
        "import torch\n",
        "import torch.nn as nn\n",
        "import torch.optim as optim\n",
        "\n",
        "import torchvision\n",
        "from torchvision import models\n",
        "from torchvision import transforms, datasets\n",
        "\n",
        "from sklearn.metrics import classification_report, precision_score, recall_score, f1_score"
      ],
      "metadata": {
        "id": "vDIZDqzp4TEK"
      },
      "execution_count": 3,
      "outputs": []
    },
    {
      "cell_type": "code",
      "source": [
        "import cv2\n",
        "import argparse\n",
        "import numpy as np\n",
        "import matplotlib.pyplot as plt"
      ],
      "metadata": {
        "id": "VgUdMv-O4dAn"
      },
      "execution_count": 4,
      "outputs": []
    },
    {
      "cell_type": "code",
      "source": [
        "torch.manual_seed(64)"
      ],
      "metadata": {
        "colab": {
          "base_uri": "https://localhost:8080/"
        },
        "id": "_qYsYZis-L17",
        "outputId": "34d1fe51-21f1-4c19-f5f0-9cde8f517c5e"
      },
      "execution_count": 5,
      "outputs": [
        {
          "output_type": "execute_result",
          "data": {
            "text/plain": [
              "<torch._C.Generator at 0x7c2b468413d0>"
            ]
          },
          "metadata": {},
          "execution_count": 5
        }
      ]
    },
    {
      "cell_type": "code",
      "source": [
        "home_path = \"/content/drive/MyDrive/AllTalentZ\""
      ],
      "metadata": {
        "id": "i0xhVPwTYCun"
      },
      "execution_count": 6,
      "outputs": []
    },
    {
      "cell_type": "code",
      "source": [
        "os.makedirs(f\"{home_path}/models/train\", exist_ok=True)"
      ],
      "metadata": {
        "id": "WIIKjX2UYHQz"
      },
      "execution_count": 7,
      "outputs": []
    },
    {
      "cell_type": "code",
      "source": [
        "# dir(models)"
      ],
      "metadata": {
        "id": "7beF6nLONORb"
      },
      "execution_count": 8,
      "outputs": []
    },
    {
      "cell_type": "code",
      "source": [
        "# help(models.resnet152)"
      ],
      "metadata": {
        "id": "xJYHKQBJVaIn"
      },
      "execution_count": 9,
      "outputs": []
    },
    {
      "cell_type": "code",
      "source": [
        "pretrained_model = models.resnet50(weights='IMAGENET1K_V2')# pretrained=True,\n",
        "num_ftrs = pretrained_model.fc.in_features\n",
        "\n",
        "# pretrained_model = models.vgg19(weights='IMAGENET1K_V1') #pretrained=True,\n",
        "# num_ftrs = pretrained_model.classifier[0].in_features\n",
        "num_ftrs"
      ],
      "metadata": {
        "colab": {
          "base_uri": "https://localhost:8080/"
        },
        "id": "D-CvNajH_Kc_",
        "outputId": "64cba87a-5dcf-4b5f-884a-ed293c321f29"
      },
      "execution_count": 10,
      "outputs": [
        {
          "output_type": "stream",
          "name": "stderr",
          "text": [
            "Downloading: \"https://download.pytorch.org/models/resnet50-11ad3fa6.pth\" to /root/.cache/torch/hub/checkpoints/resnet50-11ad3fa6.pth\n",
            "100%|██████████| 97.8M/97.8M [00:00<00:00, 136MB/s]\n"
          ]
        },
        {
          "output_type": "execute_result",
          "data": {
            "text/plain": [
              "2048"
            ]
          },
          "metadata": {},
          "execution_count": 10
        }
      ]
    },
    {
      "cell_type": "code",
      "source": [
        "data_path = \"/content/drive/MyDrive/AllTalentZ/data/Chess\"\n",
        "tmp_path = \"/content/drive/MyDrive/AllTalentZ/data/Chess/train\""
      ],
      "metadata": {
        "id": "9nQLC7rg3ZHN"
      },
      "execution_count": 11,
      "outputs": []
    },
    {
      "cell_type": "code",
      "source": [
        "new_num_classes = len(os.listdir(tmp_path))\n",
        "new_num_classes"
      ],
      "metadata": {
        "colab": {
          "base_uri": "https://localhost:8080/"
        },
        "id": "yzzepYat3xXW",
        "outputId": "6364ef0a-deb6-4055-aa07-75212412d699"
      },
      "execution_count": 12,
      "outputs": [
        {
          "output_type": "execute_result",
          "data": {
            "text/plain": [
              "6"
            ]
          },
          "metadata": {},
          "execution_count": 12
        }
      ]
    },
    {
      "cell_type": "code",
      "source": [
        "# Training Config\n",
        "num_epochs = 150\n",
        "batch_size = 32 #64\n",
        "num_workers = 2"
      ],
      "metadata": {
        "id": "4ok6CEl1vroh"
      },
      "execution_count": 13,
      "outputs": []
    },
    {
      "cell_type": "code",
      "source": [
        "# # Freeze all the layers of the pre-trained model\n",
        "\n",
        "for name, param in pretrained_model.named_parameters():\n",
        "  if \"fc\" in name:\n",
        "    param.requires_grad = True\n",
        "  else:\n",
        "    param.requires_grad = False\n",
        "\n",
        "# for name, param in pretrained_model.named_parameters():\n",
        "#   if \"classifier\" in name:\n",
        "#     param.requires_grad = True\n",
        "#   else:\n",
        "#     param.requires_grad = False"
      ],
      "metadata": {
        "id": "6HhYsBz9grSq"
      },
      "execution_count": 14,
      "outputs": []
    },
    {
      "cell_type": "code",
      "source": [
        "# Additional linear layer and dropout layer\n",
        "# pretrained_model.fc\n",
        "# pretrained_model.fc = nn.Sequential(\n",
        "#     nn.Linear(num_ftrs, 512),\n",
        "#     nn.ReLU(inplace=True),\n",
        "#     nn.Dropout(0.3),\n",
        "#     nn.Linear(512, 256),\n",
        "#     nn.ReLU(inplace=True),\n",
        "#     nn.Dropout(0.3),\n",
        "#     nn.Linear(256, 128),\n",
        "#     nn.ReLU(inplace=True),\n",
        "#     nn.Dropout(0.3),\n",
        "#     nn.Linear(128, new_num_classes)\n",
        "# )\n",
        "\n",
        "pretrained_model.fc = nn.Sequential(\n",
        "    nn.Linear(num_ftrs, 1024),\n",
        "    nn.ReLU(inplace=True),\n",
        "    nn.Dropout(0.5),\n",
        "    nn.Linear(1024, new_num_classes)\n",
        ")\n",
        "# pretrained_model.fc = nn.Linear(num_ftrs, new_num_classes)"
      ],
      "metadata": {
        "id": "FUToB8hdC4Dx"
      },
      "execution_count": 15,
      "outputs": []
    },
    {
      "cell_type": "code",
      "source": [
        "# pretrained_model.classifier = nn.Sequential(\n",
        "#     nn.Linear(num_ftrs, 512),\n",
        "#     nn.ReLU(inplace=True),\n",
        "#     nn.Dropout(0.3),\n",
        "#     nn.Linear(512, new_num_classes)\n",
        "# )"
      ],
      "metadata": {
        "id": "CVtXLRGq-q7e"
      },
      "execution_count": 16,
      "outputs": []
    },
    {
      "cell_type": "code",
      "source": [
        "device = torch.device(\"cuda\" if torch.cuda.is_available() else \"cpu\")\n",
        "pretrained_model.to(device)"
      ],
      "metadata": {
        "colab": {
          "base_uri": "https://localhost:8080/"
        },
        "id": "GBxN7XISUbV3",
        "outputId": "166a9299-fdc0-451d-9336-c6ab2e46cd80"
      },
      "execution_count": 17,
      "outputs": [
        {
          "output_type": "execute_result",
          "data": {
            "text/plain": [
              "ResNet(\n",
              "  (conv1): Conv2d(3, 64, kernel_size=(7, 7), stride=(2, 2), padding=(3, 3), bias=False)\n",
              "  (bn1): BatchNorm2d(64, eps=1e-05, momentum=0.1, affine=True, track_running_stats=True)\n",
              "  (relu): ReLU(inplace=True)\n",
              "  (maxpool): MaxPool2d(kernel_size=3, stride=2, padding=1, dilation=1, ceil_mode=False)\n",
              "  (layer1): Sequential(\n",
              "    (0): Bottleneck(\n",
              "      (conv1): Conv2d(64, 64, kernel_size=(1, 1), stride=(1, 1), bias=False)\n",
              "      (bn1): BatchNorm2d(64, eps=1e-05, momentum=0.1, affine=True, track_running_stats=True)\n",
              "      (conv2): Conv2d(64, 64, kernel_size=(3, 3), stride=(1, 1), padding=(1, 1), bias=False)\n",
              "      (bn2): BatchNorm2d(64, eps=1e-05, momentum=0.1, affine=True, track_running_stats=True)\n",
              "      (conv3): Conv2d(64, 256, kernel_size=(1, 1), stride=(1, 1), bias=False)\n",
              "      (bn3): BatchNorm2d(256, eps=1e-05, momentum=0.1, affine=True, track_running_stats=True)\n",
              "      (relu): ReLU(inplace=True)\n",
              "      (downsample): Sequential(\n",
              "        (0): Conv2d(64, 256, kernel_size=(1, 1), stride=(1, 1), bias=False)\n",
              "        (1): BatchNorm2d(256, eps=1e-05, momentum=0.1, affine=True, track_running_stats=True)\n",
              "      )\n",
              "    )\n",
              "    (1): Bottleneck(\n",
              "      (conv1): Conv2d(256, 64, kernel_size=(1, 1), stride=(1, 1), bias=False)\n",
              "      (bn1): BatchNorm2d(64, eps=1e-05, momentum=0.1, affine=True, track_running_stats=True)\n",
              "      (conv2): Conv2d(64, 64, kernel_size=(3, 3), stride=(1, 1), padding=(1, 1), bias=False)\n",
              "      (bn2): BatchNorm2d(64, eps=1e-05, momentum=0.1, affine=True, track_running_stats=True)\n",
              "      (conv3): Conv2d(64, 256, kernel_size=(1, 1), stride=(1, 1), bias=False)\n",
              "      (bn3): BatchNorm2d(256, eps=1e-05, momentum=0.1, affine=True, track_running_stats=True)\n",
              "      (relu): ReLU(inplace=True)\n",
              "    )\n",
              "    (2): Bottleneck(\n",
              "      (conv1): Conv2d(256, 64, kernel_size=(1, 1), stride=(1, 1), bias=False)\n",
              "      (bn1): BatchNorm2d(64, eps=1e-05, momentum=0.1, affine=True, track_running_stats=True)\n",
              "      (conv2): Conv2d(64, 64, kernel_size=(3, 3), stride=(1, 1), padding=(1, 1), bias=False)\n",
              "      (bn2): BatchNorm2d(64, eps=1e-05, momentum=0.1, affine=True, track_running_stats=True)\n",
              "      (conv3): Conv2d(64, 256, kernel_size=(1, 1), stride=(1, 1), bias=False)\n",
              "      (bn3): BatchNorm2d(256, eps=1e-05, momentum=0.1, affine=True, track_running_stats=True)\n",
              "      (relu): ReLU(inplace=True)\n",
              "    )\n",
              "  )\n",
              "  (layer2): Sequential(\n",
              "    (0): Bottleneck(\n",
              "      (conv1): Conv2d(256, 128, kernel_size=(1, 1), stride=(1, 1), bias=False)\n",
              "      (bn1): BatchNorm2d(128, eps=1e-05, momentum=0.1, affine=True, track_running_stats=True)\n",
              "      (conv2): Conv2d(128, 128, kernel_size=(3, 3), stride=(2, 2), padding=(1, 1), bias=False)\n",
              "      (bn2): BatchNorm2d(128, eps=1e-05, momentum=0.1, affine=True, track_running_stats=True)\n",
              "      (conv3): Conv2d(128, 512, kernel_size=(1, 1), stride=(1, 1), bias=False)\n",
              "      (bn3): BatchNorm2d(512, eps=1e-05, momentum=0.1, affine=True, track_running_stats=True)\n",
              "      (relu): ReLU(inplace=True)\n",
              "      (downsample): Sequential(\n",
              "        (0): Conv2d(256, 512, kernel_size=(1, 1), stride=(2, 2), bias=False)\n",
              "        (1): BatchNorm2d(512, eps=1e-05, momentum=0.1, affine=True, track_running_stats=True)\n",
              "      )\n",
              "    )\n",
              "    (1): Bottleneck(\n",
              "      (conv1): Conv2d(512, 128, kernel_size=(1, 1), stride=(1, 1), bias=False)\n",
              "      (bn1): BatchNorm2d(128, eps=1e-05, momentum=0.1, affine=True, track_running_stats=True)\n",
              "      (conv2): Conv2d(128, 128, kernel_size=(3, 3), stride=(1, 1), padding=(1, 1), bias=False)\n",
              "      (bn2): BatchNorm2d(128, eps=1e-05, momentum=0.1, affine=True, track_running_stats=True)\n",
              "      (conv3): Conv2d(128, 512, kernel_size=(1, 1), stride=(1, 1), bias=False)\n",
              "      (bn3): BatchNorm2d(512, eps=1e-05, momentum=0.1, affine=True, track_running_stats=True)\n",
              "      (relu): ReLU(inplace=True)\n",
              "    )\n",
              "    (2): Bottleneck(\n",
              "      (conv1): Conv2d(512, 128, kernel_size=(1, 1), stride=(1, 1), bias=False)\n",
              "      (bn1): BatchNorm2d(128, eps=1e-05, momentum=0.1, affine=True, track_running_stats=True)\n",
              "      (conv2): Conv2d(128, 128, kernel_size=(3, 3), stride=(1, 1), padding=(1, 1), bias=False)\n",
              "      (bn2): BatchNorm2d(128, eps=1e-05, momentum=0.1, affine=True, track_running_stats=True)\n",
              "      (conv3): Conv2d(128, 512, kernel_size=(1, 1), stride=(1, 1), bias=False)\n",
              "      (bn3): BatchNorm2d(512, eps=1e-05, momentum=0.1, affine=True, track_running_stats=True)\n",
              "      (relu): ReLU(inplace=True)\n",
              "    )\n",
              "    (3): Bottleneck(\n",
              "      (conv1): Conv2d(512, 128, kernel_size=(1, 1), stride=(1, 1), bias=False)\n",
              "      (bn1): BatchNorm2d(128, eps=1e-05, momentum=0.1, affine=True, track_running_stats=True)\n",
              "      (conv2): Conv2d(128, 128, kernel_size=(3, 3), stride=(1, 1), padding=(1, 1), bias=False)\n",
              "      (bn2): BatchNorm2d(128, eps=1e-05, momentum=0.1, affine=True, track_running_stats=True)\n",
              "      (conv3): Conv2d(128, 512, kernel_size=(1, 1), stride=(1, 1), bias=False)\n",
              "      (bn3): BatchNorm2d(512, eps=1e-05, momentum=0.1, affine=True, track_running_stats=True)\n",
              "      (relu): ReLU(inplace=True)\n",
              "    )\n",
              "  )\n",
              "  (layer3): Sequential(\n",
              "    (0): Bottleneck(\n",
              "      (conv1): Conv2d(512, 256, kernel_size=(1, 1), stride=(1, 1), bias=False)\n",
              "      (bn1): BatchNorm2d(256, eps=1e-05, momentum=0.1, affine=True, track_running_stats=True)\n",
              "      (conv2): Conv2d(256, 256, kernel_size=(3, 3), stride=(2, 2), padding=(1, 1), bias=False)\n",
              "      (bn2): BatchNorm2d(256, eps=1e-05, momentum=0.1, affine=True, track_running_stats=True)\n",
              "      (conv3): Conv2d(256, 1024, kernel_size=(1, 1), stride=(1, 1), bias=False)\n",
              "      (bn3): BatchNorm2d(1024, eps=1e-05, momentum=0.1, affine=True, track_running_stats=True)\n",
              "      (relu): ReLU(inplace=True)\n",
              "      (downsample): Sequential(\n",
              "        (0): Conv2d(512, 1024, kernel_size=(1, 1), stride=(2, 2), bias=False)\n",
              "        (1): BatchNorm2d(1024, eps=1e-05, momentum=0.1, affine=True, track_running_stats=True)\n",
              "      )\n",
              "    )\n",
              "    (1): Bottleneck(\n",
              "      (conv1): Conv2d(1024, 256, kernel_size=(1, 1), stride=(1, 1), bias=False)\n",
              "      (bn1): BatchNorm2d(256, eps=1e-05, momentum=0.1, affine=True, track_running_stats=True)\n",
              "      (conv2): Conv2d(256, 256, kernel_size=(3, 3), stride=(1, 1), padding=(1, 1), bias=False)\n",
              "      (bn2): BatchNorm2d(256, eps=1e-05, momentum=0.1, affine=True, track_running_stats=True)\n",
              "      (conv3): Conv2d(256, 1024, kernel_size=(1, 1), stride=(1, 1), bias=False)\n",
              "      (bn3): BatchNorm2d(1024, eps=1e-05, momentum=0.1, affine=True, track_running_stats=True)\n",
              "      (relu): ReLU(inplace=True)\n",
              "    )\n",
              "    (2): Bottleneck(\n",
              "      (conv1): Conv2d(1024, 256, kernel_size=(1, 1), stride=(1, 1), bias=False)\n",
              "      (bn1): BatchNorm2d(256, eps=1e-05, momentum=0.1, affine=True, track_running_stats=True)\n",
              "      (conv2): Conv2d(256, 256, kernel_size=(3, 3), stride=(1, 1), padding=(1, 1), bias=False)\n",
              "      (bn2): BatchNorm2d(256, eps=1e-05, momentum=0.1, affine=True, track_running_stats=True)\n",
              "      (conv3): Conv2d(256, 1024, kernel_size=(1, 1), stride=(1, 1), bias=False)\n",
              "      (bn3): BatchNorm2d(1024, eps=1e-05, momentum=0.1, affine=True, track_running_stats=True)\n",
              "      (relu): ReLU(inplace=True)\n",
              "    )\n",
              "    (3): Bottleneck(\n",
              "      (conv1): Conv2d(1024, 256, kernel_size=(1, 1), stride=(1, 1), bias=False)\n",
              "      (bn1): BatchNorm2d(256, eps=1e-05, momentum=0.1, affine=True, track_running_stats=True)\n",
              "      (conv2): Conv2d(256, 256, kernel_size=(3, 3), stride=(1, 1), padding=(1, 1), bias=False)\n",
              "      (bn2): BatchNorm2d(256, eps=1e-05, momentum=0.1, affine=True, track_running_stats=True)\n",
              "      (conv3): Conv2d(256, 1024, kernel_size=(1, 1), stride=(1, 1), bias=False)\n",
              "      (bn3): BatchNorm2d(1024, eps=1e-05, momentum=0.1, affine=True, track_running_stats=True)\n",
              "      (relu): ReLU(inplace=True)\n",
              "    )\n",
              "    (4): Bottleneck(\n",
              "      (conv1): Conv2d(1024, 256, kernel_size=(1, 1), stride=(1, 1), bias=False)\n",
              "      (bn1): BatchNorm2d(256, eps=1e-05, momentum=0.1, affine=True, track_running_stats=True)\n",
              "      (conv2): Conv2d(256, 256, kernel_size=(3, 3), stride=(1, 1), padding=(1, 1), bias=False)\n",
              "      (bn2): BatchNorm2d(256, eps=1e-05, momentum=0.1, affine=True, track_running_stats=True)\n",
              "      (conv3): Conv2d(256, 1024, kernel_size=(1, 1), stride=(1, 1), bias=False)\n",
              "      (bn3): BatchNorm2d(1024, eps=1e-05, momentum=0.1, affine=True, track_running_stats=True)\n",
              "      (relu): ReLU(inplace=True)\n",
              "    )\n",
              "    (5): Bottleneck(\n",
              "      (conv1): Conv2d(1024, 256, kernel_size=(1, 1), stride=(1, 1), bias=False)\n",
              "      (bn1): BatchNorm2d(256, eps=1e-05, momentum=0.1, affine=True, track_running_stats=True)\n",
              "      (conv2): Conv2d(256, 256, kernel_size=(3, 3), stride=(1, 1), padding=(1, 1), bias=False)\n",
              "      (bn2): BatchNorm2d(256, eps=1e-05, momentum=0.1, affine=True, track_running_stats=True)\n",
              "      (conv3): Conv2d(256, 1024, kernel_size=(1, 1), stride=(1, 1), bias=False)\n",
              "      (bn3): BatchNorm2d(1024, eps=1e-05, momentum=0.1, affine=True, track_running_stats=True)\n",
              "      (relu): ReLU(inplace=True)\n",
              "    )\n",
              "  )\n",
              "  (layer4): Sequential(\n",
              "    (0): Bottleneck(\n",
              "      (conv1): Conv2d(1024, 512, kernel_size=(1, 1), stride=(1, 1), bias=False)\n",
              "      (bn1): BatchNorm2d(512, eps=1e-05, momentum=0.1, affine=True, track_running_stats=True)\n",
              "      (conv2): Conv2d(512, 512, kernel_size=(3, 3), stride=(2, 2), padding=(1, 1), bias=False)\n",
              "      (bn2): BatchNorm2d(512, eps=1e-05, momentum=0.1, affine=True, track_running_stats=True)\n",
              "      (conv3): Conv2d(512, 2048, kernel_size=(1, 1), stride=(1, 1), bias=False)\n",
              "      (bn3): BatchNorm2d(2048, eps=1e-05, momentum=0.1, affine=True, track_running_stats=True)\n",
              "      (relu): ReLU(inplace=True)\n",
              "      (downsample): Sequential(\n",
              "        (0): Conv2d(1024, 2048, kernel_size=(1, 1), stride=(2, 2), bias=False)\n",
              "        (1): BatchNorm2d(2048, eps=1e-05, momentum=0.1, affine=True, track_running_stats=True)\n",
              "      )\n",
              "    )\n",
              "    (1): Bottleneck(\n",
              "      (conv1): Conv2d(2048, 512, kernel_size=(1, 1), stride=(1, 1), bias=False)\n",
              "      (bn1): BatchNorm2d(512, eps=1e-05, momentum=0.1, affine=True, track_running_stats=True)\n",
              "      (conv2): Conv2d(512, 512, kernel_size=(3, 3), stride=(1, 1), padding=(1, 1), bias=False)\n",
              "      (bn2): BatchNorm2d(512, eps=1e-05, momentum=0.1, affine=True, track_running_stats=True)\n",
              "      (conv3): Conv2d(512, 2048, kernel_size=(1, 1), stride=(1, 1), bias=False)\n",
              "      (bn3): BatchNorm2d(2048, eps=1e-05, momentum=0.1, affine=True, track_running_stats=True)\n",
              "      (relu): ReLU(inplace=True)\n",
              "    )\n",
              "    (2): Bottleneck(\n",
              "      (conv1): Conv2d(2048, 512, kernel_size=(1, 1), stride=(1, 1), bias=False)\n",
              "      (bn1): BatchNorm2d(512, eps=1e-05, momentum=0.1, affine=True, track_running_stats=True)\n",
              "      (conv2): Conv2d(512, 512, kernel_size=(3, 3), stride=(1, 1), padding=(1, 1), bias=False)\n",
              "      (bn2): BatchNorm2d(512, eps=1e-05, momentum=0.1, affine=True, track_running_stats=True)\n",
              "      (conv3): Conv2d(512, 2048, kernel_size=(1, 1), stride=(1, 1), bias=False)\n",
              "      (bn3): BatchNorm2d(2048, eps=1e-05, momentum=0.1, affine=True, track_running_stats=True)\n",
              "      (relu): ReLU(inplace=True)\n",
              "    )\n",
              "  )\n",
              "  (avgpool): AdaptiveAvgPool2d(output_size=(1, 1))\n",
              "  (fc): Sequential(\n",
              "    (0): Linear(in_features=2048, out_features=1024, bias=True)\n",
              "    (1): ReLU(inplace=True)\n",
              "    (2): Dropout(p=0.5, inplace=False)\n",
              "    (3): Linear(in_features=1024, out_features=6, bias=True)\n",
              "  )\n",
              ")"
            ]
          },
          "metadata": {},
          "execution_count": 17
        }
      ]
    },
    {
      "cell_type": "code",
      "source": [
        "# # Define your optimizer with weight decay\n",
        "# optimizer = optim.SGD(pretrained_model.parameters(), lr=0.003, momentum=0.9, weight_decay=0.001)\n",
        "# scheduler = optim.lr_scheduler.StepLR(optimizer, step_size=10, gamma=0.3)"
      ],
      "metadata": {
        "id": "C-92D6fV5AEa"
      },
      "execution_count": 18,
      "outputs": []
    },
    {
      "cell_type": "code",
      "source": [
        "optimizer = optim.Adam(pretrained_model.parameters(), lr=0.003, weight_decay=0.0001)"
      ],
      "metadata": {
        "id": "NNQ3FxxOlqvs"
      },
      "execution_count": 28,
      "outputs": []
    },
    {
      "cell_type": "code",
      "source": [
        "# Define the loss function - For classification problem\n",
        "loss_function = nn.CrossEntropyLoss()"
      ],
      "metadata": {
        "id": "VmNIVEC5ArM1"
      },
      "execution_count": 29,
      "outputs": []
    },
    {
      "cell_type": "code",
      "source": [
        "IMAGE_SIZE = 224\n",
        "data_transforms = {\n",
        "    \"train\":transforms.Compose([\n",
        "              transforms.RandomResizedCrop(size=(224,224)),\n",
        "              transforms.RandomRotation(30),\n",
        "              transforms.RandomHorizontalFlip(p=1),\n",
        "              transforms.RandomVerticalFlip(p=1),\n",
        "              # transforms.ColorJitter(brightness=(0.1, 0.3), contrast=(0.1, 0.3), saturation=(0.1, 0.3), hue=(0.1, 0.3)),\n",
        "              transforms.RandomAffine(degrees=(30, 70), translate=(0.0, 0.1), scale=(0.5, 0.7)),\n",
        "              transforms.ToTensor(),\n",
        "              transforms.Normalize(\n",
        "              mean=[0.485, 0.456, 0.406],\n",
        "              std=[0.229, 0.224, 0.225]\n",
        "          )]),\n",
        "    \"val\": transforms.Compose([\n",
        "              transforms.Resize((IMAGE_SIZE, IMAGE_SIZE)),\n",
        "              transforms.ToTensor(),\n",
        "              transforms.Normalize(\n",
        "              mean=[0.485, 0.456, 0.406],\n",
        "              std=[0.229, 0.224, 0.225]\n",
        "          )])\n",
        "}\n"
      ],
      "metadata": {
        "id": "z5_pQV35GqdD"
      },
      "execution_count": 30,
      "outputs": []
    },
    {
      "cell_type": "code",
      "source": [
        "image_datasets = {x: datasets.ImageFolder(os.path.join(data_path, x), data_transforms[x]) for x in ['train', 'val']}"
      ],
      "metadata": {
        "id": "jzlRCoWTAhPd"
      },
      "execution_count": 31,
      "outputs": []
    },
    {
      "cell_type": "code",
      "source": [
        "dataloaders = {x: torch.utils.data.DataLoader(image_datasets[x], batch_size=batch_size, shuffle=True, num_workers=num_workers) for x in ['train', 'val']}\n",
        "dataloaders"
      ],
      "metadata": {
        "colab": {
          "base_uri": "https://localhost:8080/"
        },
        "id": "O_ZGe8vtB2dh",
        "outputId": "c28dd956-7ed7-4d38-bb85-434a08f28f39"
      },
      "execution_count": 32,
      "outputs": [
        {
          "output_type": "execute_result",
          "data": {
            "text/plain": [
              "{'train': <torch.utils.data.dataloader.DataLoader at 0x7c2a756de8f0>,\n",
              " 'val': <torch.utils.data.dataloader.DataLoader at 0x7c2a756dc490>}"
            ]
          },
          "metadata": {},
          "execution_count": 32
        }
      ]
    },
    {
      "cell_type": "code",
      "source": [
        "dataset_sizes = {x: len(image_datasets[x]) for x in ['train', 'val']}\n",
        "dataset_sizes"
      ],
      "metadata": {
        "colab": {
          "base_uri": "https://localhost:8080/"
        },
        "id": "vJU9m-csB38a",
        "outputId": "f0d02b3f-aaf4-41c9-c13a-e6ee217dc544"
      },
      "execution_count": 33,
      "outputs": [
        {
          "output_type": "execute_result",
          "data": {
            "text/plain": [
              "{'train': 451, 'val': 54}"
            ]
          },
          "metadata": {},
          "execution_count": 33
        }
      ]
    },
    {
      "cell_type": "code",
      "source": [
        "class_names = image_datasets['train'].classes\n",
        "class_names"
      ],
      "metadata": {
        "colab": {
          "base_uri": "https://localhost:8080/"
        },
        "id": "nJWQrXmGBq-g",
        "outputId": "028a6684-17ea-48c3-8fe9-ae001daaac7d"
      },
      "execution_count": 34,
      "outputs": [
        {
          "output_type": "execute_result",
          "data": {
            "text/plain": [
              "['Bishop', 'King', 'Knight', 'Pawn', 'Queen', 'Rook']"
            ]
          },
          "metadata": {},
          "execution_count": 34
        }
      ]
    },
    {
      "cell_type": "code",
      "source": [
        "train_losses = []  # To store the losses for plotting\n",
        "val_losses = []  # To store the losses for plotting\n",
        "best_val_loss = float('inf')  # Initialize with a very large value\n",
        "best_val_acc = 0\n",
        "use_val_acc = True"
      ],
      "metadata": {
        "id": "OEjAqxdsJKY0"
      },
      "execution_count": 35,
      "outputs": []
    },
    {
      "cell_type": "code",
      "source": [
        "# Train the model\n",
        "for epoch in range(num_epochs):\n",
        "\n",
        "    # Train the model on the training set\n",
        "    pretrained_model.train()\n",
        "    # Initialize the training loss accumulator to zero\n",
        "    training_loss = 0.0\n",
        "\n",
        "    for i, (image, labels) in enumerate(dataloaders[\"train\"]):\n",
        "        # Prepare data and send it to the proper device\n",
        "        image = image.to(device)\n",
        "        labels = labels.to(device)\n",
        "\n",
        "        # Clear the gradients of all optimized parameters\n",
        "        optimizer.zero_grad()\n",
        "\n",
        "        # Forward pass: obtain model predictions for the input data\n",
        "        outputs = pretrained_model(image)\n",
        "        loss = loss_function(outputs, labels)\n",
        "\n",
        "        # Backward pass: compute gradients of the loss with respect to model parameters\n",
        "        loss.backward()\n",
        "\n",
        "        # Update model parameters using the computed gradients and the optimizer\n",
        "        optimizer.step()\n",
        "\n",
        "        # Update the training loss\n",
        "        training_loss += loss.item() * image.size(0)\n",
        "\n",
        "    # Calculate average training loss\n",
        "    train_loss = training_loss / dataset_sizes[\"train\"]\n",
        "    train_losses.append(train_loss)\n",
        "    # scheduler.step()\n",
        "\n",
        "    # Evaluate the model on the validation set\n",
        "    pretrained_model.eval()\n",
        "    val_loss = 0.0\n",
        "    correct_preds = 0\n",
        "    total_samples = 0\n",
        "    all_labels = []\n",
        "    all_pred = []\n",
        "    with torch.no_grad():\n",
        "        for image, labels in dataloaders[\"val\"]:\n",
        "            # Prepare data and send it to the proper device\n",
        "            image = image.to(device)\n",
        "            labels = labels.to(device)\n",
        "\n",
        "            # Forward pass: obtain model predictions for the input data\n",
        "            outputs = pretrained_model(image)\n",
        "            _, predicted = torch.max(outputs, 1)\n",
        "\n",
        "            # Compute the loss between the model predictions and the true labels\n",
        "            loss = loss_function(outputs, labels)\n",
        "\n",
        "            # Update the validation loss\n",
        "            val_loss += loss.item() * image.size(0)\n",
        "\n",
        "            # Round up and down to either 1 or 0\n",
        "            total_samples += labels.size(0)\n",
        "            # Calculate how many images were correctly classified\n",
        "            predicted =  predicted.view(1, -1)\n",
        "            labels = labels.view(1, -1)\n",
        "            correct_preds += torch.sum(torch.eq(predicted, labels), dim=1).item()\n",
        "\n",
        "            all_labels.extend(labels.cpu().numpy())\n",
        "            all_pred.extend(predicted.cpu().numpy())\n",
        "\n",
        "    # Calculate validation loss\n",
        "    val_loss /= dataset_sizes[\"val\"]\n",
        "    val_losses.append(val_loss) # To store the losses for plotting\n",
        "\n",
        "    # Calculate validation accuracy\n",
        "    val_acc = correct_preds / total_samples #* 100\n",
        "\n",
        "    # Print validation loss and accuracy\n",
        "    print(f\"Epoch [{epoch + 1}/{num_epochs}] Train Loss: {train_loss:.4f}  Validation Loss: {val_loss:.4f}, Validation Accuracy: {val_acc:.2f}%\")\n",
        "\n",
        "    # Save the model if it performs better on validation set\n",
        "\n",
        "    if use_val_acc:\n",
        "      if val_acc > best_val_acc:\n",
        "        best_val_acc = val_acc\n",
        "        torch.save(pretrained_model.state_dict(), f'/content/drive/MyDrive/AllTalentZ/models/train/best_model_epoch_{epoch + 1}--val_acc_{best_val_acc:.2f}.pth')\n",
        "    else:\n",
        "      if val_loss < best_val_loss:\n",
        "          best_val_loss = val_loss\n",
        "          torch.save(pretrained_model.state_dict(), f'/content/drive/MyDrive/AllTalentZ/models/train/best_model_epoch_{epoch + 1}--val_loss_{best_val_loss:.4f}.pth')\n",
        "\n",
        "print('Finished Training')"
      ],
      "metadata": {
        "colab": {
          "base_uri": "https://localhost:8080/"
        },
        "id": "GU9k0qf5ArKU",
        "outputId": "5624c12c-128a-48dc-e6f0-f8e9fd3296d8"
      },
      "execution_count": 36,
      "outputs": [
        {
          "output_type": "stream",
          "name": "stdout",
          "text": [
            "Epoch [1/150] Train Loss: 2.2905  Validation Loss: 1.7773, Validation Accuracy: 0.22%\n",
            "Epoch [2/150] Train Loss: 1.7934  Validation Loss: 1.6852, Validation Accuracy: 0.37%\n",
            "Epoch [3/150] Train Loss: 1.6902  Validation Loss: 1.6623, Validation Accuracy: 0.46%\n",
            "Epoch [4/150] Train Loss: 1.7068  Validation Loss: 1.7317, Validation Accuracy: 0.26%\n",
            "Epoch [5/150] Train Loss: 1.6426  Validation Loss: 1.6945, Validation Accuracy: 0.30%\n",
            "Epoch [6/150] Train Loss: 1.6570  Validation Loss: 1.6362, Validation Accuracy: 0.30%\n",
            "Epoch [7/150] Train Loss: 1.6403  Validation Loss: 1.6273, Validation Accuracy: 0.35%\n",
            "Epoch [8/150] Train Loss: 1.6429  Validation Loss: 1.7391, Validation Accuracy: 0.35%\n",
            "Epoch [9/150] Train Loss: 1.6043  Validation Loss: 1.8207, Validation Accuracy: 0.30%\n",
            "Epoch [10/150] Train Loss: 1.5997  Validation Loss: 1.6683, Validation Accuracy: 0.31%\n",
            "Epoch [11/150] Train Loss: 1.6199  Validation Loss: 1.6369, Validation Accuracy: 0.37%\n",
            "Epoch [12/150] Train Loss: 1.5627  Validation Loss: 1.7338, Validation Accuracy: 0.30%\n",
            "Epoch [13/150] Train Loss: 1.5087  Validation Loss: 1.7572, Validation Accuracy: 0.37%\n",
            "Epoch [14/150] Train Loss: 1.5622  Validation Loss: 1.5847, Validation Accuracy: 0.37%\n",
            "Epoch [15/150] Train Loss: 1.5530  Validation Loss: 1.5634, Validation Accuracy: 0.35%\n",
            "Epoch [16/150] Train Loss: 1.4890  Validation Loss: 1.5876, Validation Accuracy: 0.35%\n",
            "Epoch [17/150] Train Loss: 1.5506  Validation Loss: 1.5977, Validation Accuracy: 0.43%\n",
            "Epoch [18/150] Train Loss: 1.5426  Validation Loss: 1.5807, Validation Accuracy: 0.37%\n",
            "Epoch [19/150] Train Loss: 1.4893  Validation Loss: 1.6556, Validation Accuracy: 0.39%\n",
            "Epoch [20/150] Train Loss: 1.5231  Validation Loss: 1.7641, Validation Accuracy: 0.31%\n",
            "Epoch [21/150] Train Loss: 1.5327  Validation Loss: 1.7673, Validation Accuracy: 0.30%\n",
            "Epoch [22/150] Train Loss: 1.4436  Validation Loss: 1.8287, Validation Accuracy: 0.31%\n",
            "Epoch [23/150] Train Loss: 1.5193  Validation Loss: 1.7581, Validation Accuracy: 0.33%\n",
            "Epoch [24/150] Train Loss: 1.4886  Validation Loss: 1.6920, Validation Accuracy: 0.31%\n",
            "Epoch [25/150] Train Loss: 1.4552  Validation Loss: 1.7925, Validation Accuracy: 0.44%\n",
            "Epoch [26/150] Train Loss: 1.5002  Validation Loss: 1.8620, Validation Accuracy: 0.31%\n",
            "Epoch [27/150] Train Loss: 1.4592  Validation Loss: 1.7828, Validation Accuracy: 0.35%\n",
            "Epoch [28/150] Train Loss: 1.4163  Validation Loss: 1.8297, Validation Accuracy: 0.41%\n",
            "Epoch [29/150] Train Loss: 1.4538  Validation Loss: 1.8448, Validation Accuracy: 0.41%\n",
            "Epoch [30/150] Train Loss: 1.4980  Validation Loss: 2.0689, Validation Accuracy: 0.35%\n",
            "Epoch [31/150] Train Loss: 1.4694  Validation Loss: 1.7196, Validation Accuracy: 0.35%\n",
            "Epoch [32/150] Train Loss: 1.4786  Validation Loss: 2.1965, Validation Accuracy: 0.35%\n",
            "Epoch [33/150] Train Loss: 1.4168  Validation Loss: 1.6881, Validation Accuracy: 0.43%\n",
            "Epoch [34/150] Train Loss: 1.4284  Validation Loss: 1.6094, Validation Accuracy: 0.46%\n",
            "Epoch [35/150] Train Loss: 1.4265  Validation Loss: 1.7047, Validation Accuracy: 0.46%\n",
            "Epoch [36/150] Train Loss: 1.4129  Validation Loss: 1.7379, Validation Accuracy: 0.35%\n",
            "Epoch [37/150] Train Loss: 1.5078  Validation Loss: 1.8452, Validation Accuracy: 0.39%\n",
            "Epoch [38/150] Train Loss: 1.3801  Validation Loss: 1.8032, Validation Accuracy: 0.43%\n",
            "Epoch [39/150] Train Loss: 1.3988  Validation Loss: 1.7960, Validation Accuracy: 0.43%\n",
            "Epoch [40/150] Train Loss: 1.4599  Validation Loss: 1.5473, Validation Accuracy: 0.44%\n",
            "Epoch [41/150] Train Loss: 1.4246  Validation Loss: 2.0419, Validation Accuracy: 0.46%\n",
            "Epoch [42/150] Train Loss: 1.3889  Validation Loss: 1.5771, Validation Accuracy: 0.50%\n",
            "Epoch [43/150] Train Loss: 1.3946  Validation Loss: 1.9196, Validation Accuracy: 0.44%\n",
            "Epoch [44/150] Train Loss: 1.3615  Validation Loss: 1.7575, Validation Accuracy: 0.50%\n",
            "Epoch [45/150] Train Loss: 1.3510  Validation Loss: 1.9225, Validation Accuracy: 0.37%\n",
            "Epoch [46/150] Train Loss: 1.3886  Validation Loss: 1.8561, Validation Accuracy: 0.54%\n",
            "Epoch [47/150] Train Loss: 1.4387  Validation Loss: 1.7694, Validation Accuracy: 0.50%\n",
            "Epoch [48/150] Train Loss: 1.4233  Validation Loss: 1.7192, Validation Accuracy: 0.43%\n",
            "Epoch [49/150] Train Loss: 1.3807  Validation Loss: 2.1771, Validation Accuracy: 0.35%\n",
            "Epoch [50/150] Train Loss: 1.4604  Validation Loss: 1.7552, Validation Accuracy: 0.37%\n",
            "Epoch [51/150] Train Loss: 1.3657  Validation Loss: 1.7303, Validation Accuracy: 0.35%\n",
            "Epoch [52/150] Train Loss: 1.3588  Validation Loss: 1.7364, Validation Accuracy: 0.39%\n",
            "Epoch [53/150] Train Loss: 1.3142  Validation Loss: 1.6454, Validation Accuracy: 0.41%\n",
            "Epoch [54/150] Train Loss: 1.3065  Validation Loss: 1.7194, Validation Accuracy: 0.43%\n",
            "Epoch [55/150] Train Loss: 1.3824  Validation Loss: 1.8970, Validation Accuracy: 0.41%\n",
            "Epoch [56/150] Train Loss: 1.3238  Validation Loss: 1.7950, Validation Accuracy: 0.37%\n",
            "Epoch [57/150] Train Loss: 1.3190  Validation Loss: 1.8717, Validation Accuracy: 0.41%\n",
            "Epoch [58/150] Train Loss: 1.3750  Validation Loss: 1.8329, Validation Accuracy: 0.31%\n",
            "Epoch [59/150] Train Loss: 1.4116  Validation Loss: 1.7172, Validation Accuracy: 0.44%\n",
            "Epoch [60/150] Train Loss: 1.3411  Validation Loss: 1.9030, Validation Accuracy: 0.43%\n",
            "Epoch [61/150] Train Loss: 1.3379  Validation Loss: 2.0927, Validation Accuracy: 0.35%\n",
            "Epoch [62/150] Train Loss: 1.2991  Validation Loss: 1.8189, Validation Accuracy: 0.39%\n",
            "Epoch [63/150] Train Loss: 1.3937  Validation Loss: 1.9321, Validation Accuracy: 0.44%\n",
            "Epoch [64/150] Train Loss: 1.3856  Validation Loss: 1.8442, Validation Accuracy: 0.35%\n",
            "Epoch [65/150] Train Loss: 1.3477  Validation Loss: 1.9708, Validation Accuracy: 0.44%\n",
            "Epoch [66/150] Train Loss: 1.4005  Validation Loss: 2.0842, Validation Accuracy: 0.37%\n",
            "Epoch [67/150] Train Loss: 1.3841  Validation Loss: 1.9637, Validation Accuracy: 0.37%\n",
            "Epoch [68/150] Train Loss: 1.4360  Validation Loss: 2.1055, Validation Accuracy: 0.37%\n",
            "Epoch [69/150] Train Loss: 1.3726  Validation Loss: 2.2435, Validation Accuracy: 0.44%\n",
            "Epoch [70/150] Train Loss: 1.4013  Validation Loss: 1.9550, Validation Accuracy: 0.39%\n",
            "Epoch [71/150] Train Loss: 1.3074  Validation Loss: 1.8900, Validation Accuracy: 0.33%\n",
            "Epoch [72/150] Train Loss: 1.3709  Validation Loss: 1.9267, Validation Accuracy: 0.44%\n",
            "Epoch [73/150] Train Loss: 1.3604  Validation Loss: 2.0052, Validation Accuracy: 0.37%\n",
            "Epoch [74/150] Train Loss: 1.3878  Validation Loss: 2.0580, Validation Accuracy: 0.37%\n",
            "Epoch [75/150] Train Loss: 1.3439  Validation Loss: 2.1438, Validation Accuracy: 0.39%\n",
            "Epoch [76/150] Train Loss: 1.3299  Validation Loss: 2.0528, Validation Accuracy: 0.35%\n",
            "Epoch [77/150] Train Loss: 1.2996  Validation Loss: 2.0439, Validation Accuracy: 0.35%\n",
            "Epoch [78/150] Train Loss: 1.3507  Validation Loss: 1.9883, Validation Accuracy: 0.35%\n",
            "Epoch [79/150] Train Loss: 1.3181  Validation Loss: 2.2024, Validation Accuracy: 0.41%\n",
            "Epoch [80/150] Train Loss: 1.3875  Validation Loss: 2.2139, Validation Accuracy: 0.43%\n",
            "Epoch [81/150] Train Loss: 1.3313  Validation Loss: 1.8445, Validation Accuracy: 0.39%\n",
            "Epoch [82/150] Train Loss: 1.3633  Validation Loss: 1.9389, Validation Accuracy: 0.44%\n",
            "Epoch [83/150] Train Loss: 1.3706  Validation Loss: 2.0286, Validation Accuracy: 0.43%\n",
            "Epoch [84/150] Train Loss: 1.2955  Validation Loss: 2.2594, Validation Accuracy: 0.39%\n",
            "Epoch [85/150] Train Loss: 1.3204  Validation Loss: 2.2070, Validation Accuracy: 0.43%\n",
            "Epoch [86/150] Train Loss: 1.2718  Validation Loss: 2.3049, Validation Accuracy: 0.35%\n",
            "Epoch [87/150] Train Loss: 1.3547  Validation Loss: 2.4409, Validation Accuracy: 0.33%\n",
            "Epoch [88/150] Train Loss: 1.2831  Validation Loss: 2.3568, Validation Accuracy: 0.31%\n",
            "Epoch [89/150] Train Loss: 1.3115  Validation Loss: 2.2450, Validation Accuracy: 0.28%\n",
            "Epoch [90/150] Train Loss: 1.3509  Validation Loss: 2.0347, Validation Accuracy: 0.35%\n",
            "Epoch [91/150] Train Loss: 1.3559  Validation Loss: 2.3660, Validation Accuracy: 0.31%\n",
            "Epoch [92/150] Train Loss: 1.3066  Validation Loss: 2.8484, Validation Accuracy: 0.35%\n",
            "Epoch [93/150] Train Loss: 1.2445  Validation Loss: 2.4669, Validation Accuracy: 0.39%\n",
            "Epoch [94/150] Train Loss: 1.3531  Validation Loss: 2.3209, Validation Accuracy: 0.50%\n",
            "Epoch [95/150] Train Loss: 1.3235  Validation Loss: 2.3465, Validation Accuracy: 0.46%\n",
            "Epoch [96/150] Train Loss: 1.3134  Validation Loss: 1.9611, Validation Accuracy: 0.41%\n",
            "Epoch [97/150] Train Loss: 1.2677  Validation Loss: 1.8011, Validation Accuracy: 0.46%\n",
            "Epoch [98/150] Train Loss: 1.2729  Validation Loss: 1.9030, Validation Accuracy: 0.44%\n",
            "Epoch [99/150] Train Loss: 1.3254  Validation Loss: 1.9936, Validation Accuracy: 0.30%\n",
            "Epoch [100/150] Train Loss: 1.2581  Validation Loss: 2.4524, Validation Accuracy: 0.48%\n",
            "Epoch [101/150] Train Loss: 1.2879  Validation Loss: 2.0147, Validation Accuracy: 0.39%\n",
            "Epoch [102/150] Train Loss: 1.2693  Validation Loss: 1.9200, Validation Accuracy: 0.39%\n",
            "Epoch [103/150] Train Loss: 1.3271  Validation Loss: 1.8865, Validation Accuracy: 0.35%\n",
            "Epoch [104/150] Train Loss: 1.2903  Validation Loss: 1.8030, Validation Accuracy: 0.37%\n",
            "Epoch [105/150] Train Loss: 1.2808  Validation Loss: 2.1984, Validation Accuracy: 0.33%\n",
            "Epoch [106/150] Train Loss: 1.3712  Validation Loss: 2.2400, Validation Accuracy: 0.33%\n",
            "Epoch [107/150] Train Loss: 1.2194  Validation Loss: 2.1444, Validation Accuracy: 0.37%\n",
            "Epoch [108/150] Train Loss: 1.3137  Validation Loss: 2.6665, Validation Accuracy: 0.41%\n",
            "Epoch [109/150] Train Loss: 1.4297  Validation Loss: 2.2652, Validation Accuracy: 0.33%\n",
            "Epoch [110/150] Train Loss: 1.2278  Validation Loss: 2.6402, Validation Accuracy: 0.33%\n",
            "Epoch [111/150] Train Loss: 1.2939  Validation Loss: 2.0057, Validation Accuracy: 0.35%\n",
            "Epoch [112/150] Train Loss: 1.3092  Validation Loss: 2.6773, Validation Accuracy: 0.35%\n",
            "Epoch [113/150] Train Loss: 1.2652  Validation Loss: 2.6568, Validation Accuracy: 0.28%\n",
            "Epoch [114/150] Train Loss: 1.2471  Validation Loss: 2.4069, Validation Accuracy: 0.43%\n",
            "Epoch [115/150] Train Loss: 1.2643  Validation Loss: 2.0616, Validation Accuracy: 0.37%\n",
            "Epoch [116/150] Train Loss: 1.2490  Validation Loss: 4.2076, Validation Accuracy: 0.31%\n",
            "Epoch [117/150] Train Loss: 1.3473  Validation Loss: 4.0669, Validation Accuracy: 0.30%\n",
            "Epoch [118/150] Train Loss: 1.3189  Validation Loss: 1.9541, Validation Accuracy: 0.35%\n",
            "Epoch [119/150] Train Loss: 1.3362  Validation Loss: 2.7993, Validation Accuracy: 0.31%\n",
            "Epoch [120/150] Train Loss: 1.3382  Validation Loss: 3.0892, Validation Accuracy: 0.37%\n",
            "Epoch [121/150] Train Loss: 1.3380  Validation Loss: 2.4132, Validation Accuracy: 0.31%\n",
            "Epoch [122/150] Train Loss: 1.3028  Validation Loss: 2.5471, Validation Accuracy: 0.31%\n",
            "Epoch [123/150] Train Loss: 1.2513  Validation Loss: 2.3063, Validation Accuracy: 0.39%\n",
            "Epoch [124/150] Train Loss: 1.2269  Validation Loss: 2.4136, Validation Accuracy: 0.31%\n",
            "Epoch [125/150] Train Loss: 1.2558  Validation Loss: 2.2076, Validation Accuracy: 0.35%\n",
            "Epoch [126/150] Train Loss: 1.3185  Validation Loss: 1.9227, Validation Accuracy: 0.41%\n",
            "Epoch [127/150] Train Loss: 1.2672  Validation Loss: 2.2874, Validation Accuracy: 0.46%\n",
            "Epoch [128/150] Train Loss: 1.2332  Validation Loss: 2.3584, Validation Accuracy: 0.37%\n",
            "Epoch [129/150] Train Loss: 1.1962  Validation Loss: 2.3052, Validation Accuracy: 0.33%\n",
            "Epoch [130/150] Train Loss: 1.2317  Validation Loss: 3.1654, Validation Accuracy: 0.33%\n",
            "Epoch [131/150] Train Loss: 1.2510  Validation Loss: 2.8718, Validation Accuracy: 0.35%\n",
            "Epoch [132/150] Train Loss: 1.3185  Validation Loss: 2.2530, Validation Accuracy: 0.41%\n",
            "Epoch [133/150] Train Loss: 1.2570  Validation Loss: 3.1086, Validation Accuracy: 0.37%\n",
            "Epoch [134/150] Train Loss: 1.3184  Validation Loss: 2.6496, Validation Accuracy: 0.31%\n",
            "Epoch [135/150] Train Loss: 1.2410  Validation Loss: 2.2799, Validation Accuracy: 0.33%\n",
            "Epoch [136/150] Train Loss: 1.3254  Validation Loss: 1.9449, Validation Accuracy: 0.37%\n",
            "Epoch [137/150] Train Loss: 1.2846  Validation Loss: 2.0312, Validation Accuracy: 0.37%\n",
            "Epoch [138/150] Train Loss: 1.3285  Validation Loss: 1.9639, Validation Accuracy: 0.35%\n",
            "Epoch [139/150] Train Loss: 1.2360  Validation Loss: 2.4178, Validation Accuracy: 0.31%\n",
            "Epoch [140/150] Train Loss: 1.2441  Validation Loss: 1.8609, Validation Accuracy: 0.41%\n",
            "Epoch [141/150] Train Loss: 1.2966  Validation Loss: 2.2505, Validation Accuracy: 0.41%\n",
            "Epoch [142/150] Train Loss: 1.2619  Validation Loss: 2.2406, Validation Accuracy: 0.30%\n",
            "Epoch [143/150] Train Loss: 1.2512  Validation Loss: 2.2080, Validation Accuracy: 0.39%\n",
            "Epoch [144/150] Train Loss: 1.1808  Validation Loss: 2.7380, Validation Accuracy: 0.37%\n",
            "Epoch [145/150] Train Loss: 1.2528  Validation Loss: 2.3500, Validation Accuracy: 0.37%\n",
            "Epoch [146/150] Train Loss: 1.3445  Validation Loss: 2.9472, Validation Accuracy: 0.44%\n",
            "Epoch [147/150] Train Loss: 1.2739  Validation Loss: 2.0738, Validation Accuracy: 0.41%\n",
            "Epoch [148/150] Train Loss: 1.3322  Validation Loss: 2.8938, Validation Accuracy: 0.37%\n",
            "Epoch [149/150] Train Loss: 1.3063  Validation Loss: 2.7017, Validation Accuracy: 0.33%\n",
            "Epoch [150/150] Train Loss: 1.1450  Validation Loss: 2.1065, Validation Accuracy: 0.37%\n",
            "Finished Training\n"
          ]
        }
      ]
    },
    {
      "cell_type": "code",
      "source": [
        "# Plotting the evolution of loss\n",
        "plt.plot(train_losses, label='Training Loss')\n",
        "plt.xlabel('Epoch')\n",
        "plt.ylabel('Loss')\n",
        "plt.title('Evolution of Training Loss')\n",
        "plt.legend()\n",
        "plt.show()"
      ],
      "metadata": {
        "id": "twOh3w3pTnd5",
        "colab": {
          "base_uri": "https://localhost:8080/",
          "height": 472
        },
        "outputId": "913e0d17-660a-453f-ba40-a0e01a4c1c1c"
      },
      "execution_count": 37,
      "outputs": [
        {
          "output_type": "display_data",
          "data": {
            "text/plain": [
              "<Figure size 640x480 with 1 Axes>"
            ],
            "image/png": "[encoded data removed]"
          },
          "metadata": {}
        }
      ]
    },
    {
      "cell_type": "code",
      "source": [
        "# Plotting the evolution of loss\n",
        "plt.plot(val_losses, label='Validation Loss')\n",
        "plt.xlabel('Epoch')\n",
        "plt.ylabel('Loss')\n",
        "plt.title('Evolution of Validation Loss')\n",
        "plt.legend()\n",
        "plt.show()"
      ],
      "metadata": {
        "id": "0yoY1fCyTpx8",
        "colab": {
          "base_uri": "https://localhost:8080/",
          "height": 472
        },
        "outputId": "af6bfe29-6515-41ed-cea9-da9944acd947"
      },
      "execution_count": 38,
      "outputs": [
        {
          "output_type": "display_data",
          "data": {
            "text/plain": [
              "<Figure size 640x480 with 1 Axes>"
            ],
            "image/png": "[encoded data removed]"
          },
          "metadata": {}
        }
      ]
    },
    {
      "cell_type": "markdown",
      "source": [],
      "metadata": {
        "id": "tAfeIuTk698R"
      }
    },
    {
      "cell_type": "code",
      "source": [],
      "metadata": {
        "id": "4BczTLPAmjdg"
      },
      "execution_count": null,
      "outputs": []
    }
  ]
}