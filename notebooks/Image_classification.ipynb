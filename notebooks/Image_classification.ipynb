{
  "nbformat": 4,
  "nbformat_minor": 0,
  "metadata": {
    "colab": {
      "provenance": [],
      "gpuType": "T4"
    },
    "kernelspec": {
      "name": "python3",
      "display_name": "Python 3"
    },
    "language_info": {
      "name": "python"
    },
    "accelerator": "GPU"
  },
  "cells": [
    {
      "cell_type": "code",
      "execution_count": null,
      "metadata": {
        "id": "pit96_PZpY6p"
      },
      "outputs": [],
      "source": [
        "# !pip install torch torchvision\n",
        "# !pip install opencv-contrib-python"
      ]
    },
    {
      "cell_type": "code",
      "source": [
        "import os"
      ],
      "metadata": {
        "id": "JmB8rW2O3dIe"
      },
      "execution_count": null,
      "outputs": []
    },
    {
      "cell_type": "code",
      "source": [
        "from google.colab import drive\n",
        "drive.mount('/content/drive')"
      ],
      "metadata": {
        "colab": {
          "base_uri": "https://localhost:8080/"
        },
        "id": "eYzz-N3SrKG-",
        "outputId": "4c39364e-e5a3-472c-931f-56c283a9728d"
      },
      "execution_count": null,
      "outputs": [
        {
          "output_type": "stream",
          "name": "stdout",
          "text": [
            "Mounted at /content/drive\n"
          ]
        }
      ]
    },
    {
      "cell_type": "code",
      "source": [
        "import torch\n",
        "import torch.nn as nn\n",
        "import torch.optim as optim\n",
        "\n",
        "import torchvision\n",
        "from torchvision import models\n",
        "from torchvision import transforms, datasets\n",
        "\n",
        "from sklearn.metrics import classification_report, precision_score, recall_score, f1_score"
      ],
      "metadata": {
        "id": "vDIZDqzp4TEK"
      },
      "execution_count": null,
      "outputs": []
    },
    {
      "cell_type": "code",
      "source": [
        "import cv2\n",
        "import argparse\n",
        "import numpy as np\n",
        "import matplotlib.pyplot as plt"
      ],
      "metadata": {
        "id": "VgUdMv-O4dAn"
      },
      "execution_count": null,
      "outputs": []
    },
    {
      "cell_type": "code",
      "source": [
        "torch.manual_seed(64)"
      ],
      "metadata": {
        "colab": {
          "base_uri": "https://localhost:8080/"
        },
        "id": "_qYsYZis-L17",
        "outputId": "9e89b7f1-9b0d-4336-dfc3-f429377eae4b"
      },
      "execution_count": null,
      "outputs": [
        {
          "output_type": "execute_result",
          "data": {
            "text/plain": [
              "<torch._C.Generator at 0x78d77845d7d0>"
            ]
          },
          "metadata": {},
          "execution_count": 5
        }
      ]
    },
    {
      "cell_type": "code",
      "source": [
        "home_path = \"/content/drive/MyDrive/AllTalentZ\""
      ],
      "metadata": {
        "id": "i0xhVPwTYCun"
      },
      "execution_count": null,
      "outputs": []
    },
    {
      "cell_type": "code",
      "source": [
        "os.makedirs(f\"{home_path}/models/train\", exist_ok=True)"
      ],
      "metadata": {
        "id": "WIIKjX2UYHQz"
      },
      "execution_count": null,
      "outputs": []
    },
    {
      "cell_type": "code",
      "source": [
        "# dir(models)"
      ],
      "metadata": {
        "id": "7beF6nLONORb"
      },
      "execution_count": null,
      "outputs": []
    },
    {
      "cell_type": "code",
      "source": [
        "# help(models.resnet152)"
      ],
      "metadata": {
        "id": "xJYHKQBJVaIn"
      },
      "execution_count": null,
      "outputs": []
    },
    {
      "cell_type": "code",
      "source": [
        "pretrained_model = models.resnet50(weights='IMAGENET1K_V2')# pretrained=True,\n",
        "num_ftrs = pretrained_model.fc.in_features\n",
        "\n",
        "# pretrained_model = models.vgg19(weights='IMAGENET1K_V1') #pretrained=True,\n",
        "# num_ftrs = pretrained_model.classifier[0].in_features\n",
        "num_ftrs"
      ],
      "metadata": {
        "colab": {
          "base_uri": "https://localhost:8080/"
        },
        "id": "D-CvNajH_Kc_",
        "outputId": "8ee61faf-d2a8-466d-f136-a1accda2e4dd"
      },
      "execution_count": null,
      "outputs": [
        {
          "output_type": "stream",
          "name": "stderr",
          "text": [
            "Downloading: \"https://download.pytorch.org/models/resnet50-11ad3fa6.pth\" to /root/.cache/torch/hub/checkpoints/resnet50-11ad3fa6.pth\n",
            "100%|██████████| 97.8M/97.8M [00:00<00:00, 161MB/s]\n"
          ]
        },
        {
          "output_type": "execute_result",
          "data": {
            "text/plain": [
              "2048"
            ]
          },
          "metadata": {},
          "execution_count": 10
        }
      ]
    },
    {
      "cell_type": "code",
      "source": [
        "data_path = \"/content/drive/MyDrive/AllTalentZ/data/Chess\"\n",
        "tmp_path = \"/content/drive/MyDrive/AllTalentZ/data/Chess/train\""
      ],
      "metadata": {
        "id": "9nQLC7rg3ZHN"
      },
      "execution_count": null,
      "outputs": []
    },
    {
      "cell_type": "code",
      "source": [
        "new_num_classes = len(os.listdir(tmp_path))\n",
        "new_num_classes"
      ],
      "metadata": {
        "colab": {
          "base_uri": "https://localhost:8080/"
        },
        "id": "yzzepYat3xXW",
        "outputId": "c4b06918-4d7d-414a-a829-151dd2e8bcab"
      },
      "execution_count": null,
      "outputs": [
        {
          "output_type": "execute_result",
          "data": {
            "text/plain": [
              "6"
            ]
          },
          "metadata": {},
          "execution_count": 12
        }
      ]
    },
    {
      "cell_type": "code",
      "source": [
        "# Training Config\n",
        "num_epochs = 150\n",
        "batch_size = 32 #64\n",
        "num_workers = 2"
      ],
      "metadata": {
        "id": "4ok6CEl1vroh"
      },
      "execution_count": null,
      "outputs": []
    },
    {
      "cell_type": "code",
      "source": [
        "# # Freeze all the layers of the pre-trained model\n",
        "\n",
        "for name, param in pretrained_model.named_parameters():\n",
        "  if \"fc\" in name:\n",
        "    param.requires_grad = True\n",
        "  else:\n",
        "    param.requires_grad = False\n",
        "\n",
        "# for name, param in pretrained_model.named_parameters():\n",
        "#   if \"classifier\" in name:\n",
        "#     param.requires_grad = True\n",
        "#   else:\n",
        "#     param.requires_grad = False"
      ],
      "metadata": {
        "id": "6HhYsBz9grSq"
      },
      "execution_count": null,
      "outputs": []
    },
    {
      "cell_type": "code",
      "source": [
        "# Additional linear layer and dropout layer\n",
        "# pretrained_model.fc\n",
        "# pretrained_model.fc = nn.Sequential(\n",
        "#     nn.Linear(num_ftrs, 512),\n",
        "#     nn.ReLU(inplace=True),\n",
        "#     nn.Dropout(0.3),\n",
        "#     nn.Linear(512, 256),\n",
        "#     nn.ReLU(inplace=True),\n",
        "#     nn.Dropout(0.3),\n",
        "#     nn.Linear(256, 128),\n",
        "#     nn.ReLU(inplace=True),\n",
        "#     nn.Dropout(0.3),\n",
        "#     nn.Linear(128, new_num_classes)\n",
        "# )\n",
        "\n",
        "pretrained_model.fc = nn.Sequential(\n",
        "    nn.Linear(num_ftrs, 1024),\n",
        "    nn.ReLU(inplace=True),\n",
        "    nn.Dropout(0.5),\n",
        "    nn.Linear(1024, new_num_classes)\n",
        ")\n",
        "# pretrained_model.fc = nn.Linear(num_ftrs, new_num_classes)"
      ],
      "metadata": {
        "id": "FUToB8hdC4Dx"
      },
      "execution_count": null,
      "outputs": []
    },
    {
      "cell_type": "code",
      "source": [
        "# pretrained_model.classifier = nn.Sequential(\n",
        "#     nn.Linear(num_ftrs, 512),\n",
        "#     nn.ReLU(inplace=True),\n",
        "#     nn.Dropout(0.3),\n",
        "#     nn.Linear(512, new_num_classes)\n",
        "# )"
      ],
      "metadata": {
        "id": "CVtXLRGq-q7e"
      },
      "execution_count": null,
      "outputs": []
    },
    {
      "cell_type": "code",
      "source": [
        "device = torch.device(\"cuda\" if torch.cuda.is_available() else \"cpu\")\n",
        "pretrained_model.to(device)"
      ],
      "metadata": {
        "colab": {
          "base_uri": "https://localhost:8080/"
        },
        "id": "GBxN7XISUbV3",
        "outputId": "4d367737-8a77-461c-8d25-066681c95869"
      },
      "execution_count": null,
      "outputs": [
        {
          "output_type": "execute_result",
          "data": {
            "text/plain": [
              "ResNet(\n",
              "  (conv1): Conv2d(3, 64, kernel_size=(7, 7), stride=(2, 2), padding=(3, 3), bias=False)\n",
              "  (bn1): BatchNorm2d(64, eps=1e-05, momentum=0.1, affine=True, track_running_stats=True)\n",
              "  (relu): ReLU(inplace=True)\n",
              "  (maxpool): MaxPool2d(kernel_size=3, stride=2, padding=1, dilation=1, ceil_mode=False)\n",
              "  (layer1): Sequential(\n",
              "    (0): Bottleneck(\n",
              "      (conv1): Conv2d(64, 64, kernel_size=(1, 1), stride=(1, 1), bias=False)\n",
              "      (bn1): BatchNorm2d(64, eps=1e-05, momentum=0.1, affine=True, track_running_stats=True)\n",
              "      (conv2): Conv2d(64, 64, kernel_size=(3, 3), stride=(1, 1), padding=(1, 1), bias=False)\n",
              "      (bn2): BatchNorm2d(64, eps=1e-05, momentum=0.1, affine=True, track_running_stats=True)\n",
              "      (conv3): Conv2d(64, 256, kernel_size=(1, 1), stride=(1, 1), bias=False)\n",
              "      (bn3): BatchNorm2d(256, eps=1e-05, momentum=0.1, affine=True, track_running_stats=True)\n",
              "      (relu): ReLU(inplace=True)\n",
              "      (downsample): Sequential(\n",
              "        (0): Conv2d(64, 256, kernel_size=(1, 1), stride=(1, 1), bias=False)\n",
              "        (1): BatchNorm2d(256, eps=1e-05, momentum=0.1, affine=True, track_running_stats=True)\n",
              "      )\n",
              "    )\n",
              "    (1): Bottleneck(\n",
              "      (conv1): Conv2d(256, 64, kernel_size=(1, 1), stride=(1, 1), bias=False)\n",
              "      (bn1): BatchNorm2d(64, eps=1e-05, momentum=0.1, affine=True, track_running_stats=True)\n",
              "      (conv2): Conv2d(64, 64, kernel_size=(3, 3), stride=(1, 1), padding=(1, 1), bias=False)\n",
              "      (bn2): BatchNorm2d(64, eps=1e-05, momentum=0.1, affine=True, track_running_stats=True)\n",
              "      (conv3): Conv2d(64, 256, kernel_size=(1, 1), stride=(1, 1), bias=False)\n",
              "      (bn3): BatchNorm2d(256, eps=1e-05, momentum=0.1, affine=True, track_running_stats=True)\n",
              "      (relu): ReLU(inplace=True)\n",
              "    )\n",
              "    (2): Bottleneck(\n",
              "      (conv1): Conv2d(256, 64, kernel_size=(1, 1), stride=(1, 1), bias=False)\n",
              "      (bn1): BatchNorm2d(64, eps=1e-05, momentum=0.1, affine=True, track_running_stats=True)\n",
              "      (conv2): Conv2d(64, 64, kernel_size=(3, 3), stride=(1, 1), padding=(1, 1), bias=False)\n",
              "      (bn2): BatchNorm2d(64, eps=1e-05, momentum=0.1, affine=True, track_running_stats=True)\n",
              "      (conv3): Conv2d(64, 256, kernel_size=(1, 1), stride=(1, 1), bias=False)\n",
              "      (bn3): BatchNorm2d(256, eps=1e-05, momentum=0.1, affine=True, track_running_stats=True)\n",
              "      (relu): ReLU(inplace=True)\n",
              "    )\n",
              "  )\n",
              "  (layer2): Sequential(\n",
              "    (0): Bottleneck(\n",
              "      (conv1): Conv2d(256, 128, kernel_size=(1, 1), stride=(1, 1), bias=False)\n",
              "      (bn1): BatchNorm2d(128, eps=1e-05, momentum=0.1, affine=True, track_running_stats=True)\n",
              "      (conv2): Conv2d(128, 128, kernel_size=(3, 3), stride=(2, 2), padding=(1, 1), bias=False)\n",
              "      (bn2): BatchNorm2d(128, eps=1e-05, momentum=0.1, affine=True, track_running_stats=True)\n",
              "      (conv3): Conv2d(128, 512, kernel_size=(1, 1), stride=(1, 1), bias=False)\n",
              "      (bn3): BatchNorm2d(512, eps=1e-05, momentum=0.1, affine=True, track_running_stats=True)\n",
              "      (relu): ReLU(inplace=True)\n",
              "      (downsample): Sequential(\n",
              "        (0): Conv2d(256, 512, kernel_size=(1, 1), stride=(2, 2), bias=False)\n",
              "        (1): BatchNorm2d(512, eps=1e-05, momentum=0.1, affine=True, track_running_stats=True)\n",
              "      )\n",
              "    )\n",
              "    (1): Bottleneck(\n",
              "      (conv1): Conv2d(512, 128, kernel_size=(1, 1), stride=(1, 1), bias=False)\n",
              "      (bn1): BatchNorm2d(128, eps=1e-05, momentum=0.1, affine=True, track_running_stats=True)\n",
              "      (conv2): Conv2d(128, 128, kernel_size=(3, 3), stride=(1, 1), padding=(1, 1), bias=False)\n",
              "      (bn2): BatchNorm2d(128, eps=1e-05, momentum=0.1, affine=True, track_running_stats=True)\n",
              "      (conv3): Conv2d(128, 512, kernel_size=(1, 1), stride=(1, 1), bias=False)\n",
              "      (bn3): BatchNorm2d(512, eps=1e-05, momentum=0.1, affine=True, track_running_stats=True)\n",
              "      (relu): ReLU(inplace=True)\n",
              "    )\n",
              "    (2): Bottleneck(\n",
              "      (conv1): Conv2d(512, 128, kernel_size=(1, 1), stride=(1, 1), bias=False)\n",
              "      (bn1): BatchNorm2d(128, eps=1e-05, momentum=0.1, affine=True, track_running_stats=True)\n",
              "      (conv2): Conv2d(128, 128, kernel_size=(3, 3), stride=(1, 1), padding=(1, 1), bias=False)\n",
              "      (bn2): BatchNorm2d(128, eps=1e-05, momentum=0.1, affine=True, track_running_stats=True)\n",
              "      (conv3): Conv2d(128, 512, kernel_size=(1, 1), stride=(1, 1), bias=False)\n",
              "      (bn3): BatchNorm2d(512, eps=1e-05, momentum=0.1, affine=True, track_running_stats=True)\n",
              "      (relu): ReLU(inplace=True)\n",
              "    )\n",
              "    (3): Bottleneck(\n",
              "      (conv1): Conv2d(512, 128, kernel_size=(1, 1), stride=(1, 1), bias=False)\n",
              "      (bn1): BatchNorm2d(128, eps=1e-05, momentum=0.1, affine=True, track_running_stats=True)\n",
              "      (conv2): Conv2d(128, 128, kernel_size=(3, 3), stride=(1, 1), padding=(1, 1), bias=False)\n",
              "      (bn2): BatchNorm2d(128, eps=1e-05, momentum=0.1, affine=True, track_running_stats=True)\n",
              "      (conv3): Conv2d(128, 512, kernel_size=(1, 1), stride=(1, 1), bias=False)\n",
              "      (bn3): BatchNorm2d(512, eps=1e-05, momentum=0.1, affine=True, track_running_stats=True)\n",
              "      (relu): ReLU(inplace=True)\n",
              "    )\n",
              "  )\n",
              "  (layer3): Sequential(\n",
              "    (0): Bottleneck(\n",
              "      (conv1): Conv2d(512, 256, kernel_size=(1, 1), stride=(1, 1), bias=False)\n",
              "      (bn1): BatchNorm2d(256, eps=1e-05, momentum=0.1, affine=True, track_running_stats=True)\n",
              "      (conv2): Conv2d(256, 256, kernel_size=(3, 3), stride=(2, 2), padding=(1, 1), bias=False)\n",
              "      (bn2): BatchNorm2d(256, eps=1e-05, momentum=0.1, affine=True, track_running_stats=True)\n",
              "      (conv3): Conv2d(256, 1024, kernel_size=(1, 1), stride=(1, 1), bias=False)\n",
              "      (bn3): BatchNorm2d(1024, eps=1e-05, momentum=0.1, affine=True, track_running_stats=True)\n",
              "      (relu): ReLU(inplace=True)\n",
              "      (downsample): Sequential(\n",
              "        (0): Conv2d(512, 1024, kernel_size=(1, 1), stride=(2, 2), bias=False)\n",
              "        (1): BatchNorm2d(1024, eps=1e-05, momentum=0.1, affine=True, track_running_stats=True)\n",
              "      )\n",
              "    )\n",
              "    (1): Bottleneck(\n",
              "      (conv1): Conv2d(1024, 256, kernel_size=(1, 1), stride=(1, 1), bias=False)\n",
              "      (bn1): BatchNorm2d(256, eps=1e-05, momentum=0.1, affine=True, track_running_stats=True)\n",
              "      (conv2): Conv2d(256, 256, kernel_size=(3, 3), stride=(1, 1), padding=(1, 1), bias=False)\n",
              "      (bn2): BatchNorm2d(256, eps=1e-05, momentum=0.1, affine=True, track_running_stats=True)\n",
              "      (conv3): Conv2d(256, 1024, kernel_size=(1, 1), stride=(1, 1), bias=False)\n",
              "      (bn3): BatchNorm2d(1024, eps=1e-05, momentum=0.1, affine=True, track_running_stats=True)\n",
              "      (relu): ReLU(inplace=True)\n",
              "    )\n",
              "    (2): Bottleneck(\n",
              "      (conv1): Conv2d(1024, 256, kernel_size=(1, 1), stride=(1, 1), bias=False)\n",
              "      (bn1): BatchNorm2d(256, eps=1e-05, momentum=0.1, affine=True, track_running_stats=True)\n",
              "      (conv2): Conv2d(256, 256, kernel_size=(3, 3), stride=(1, 1), padding=(1, 1), bias=False)\n",
              "      (bn2): BatchNorm2d(256, eps=1e-05, momentum=0.1, affine=True, track_running_stats=True)\n",
              "      (conv3): Conv2d(256, 1024, kernel_size=(1, 1), stride=(1, 1), bias=False)\n",
              "      (bn3): BatchNorm2d(1024, eps=1e-05, momentum=0.1, affine=True, track_running_stats=True)\n",
              "      (relu): ReLU(inplace=True)\n",
              "    )\n",
              "    (3): Bottleneck(\n",
              "      (conv1): Conv2d(1024, 256, kernel_size=(1, 1), stride=(1, 1), bias=False)\n",
              "      (bn1): BatchNorm2d(256, eps=1e-05, momentum=0.1, affine=True, track_running_stats=True)\n",
              "      (conv2): Conv2d(256, 256, kernel_size=(3, 3), stride=(1, 1), padding=(1, 1), bias=False)\n",
              "      (bn2): BatchNorm2d(256, eps=1e-05, momentum=0.1, affine=True, track_running_stats=True)\n",
              "      (conv3): Conv2d(256, 1024, kernel_size=(1, 1), stride=(1, 1), bias=False)\n",
              "      (bn3): BatchNorm2d(1024, eps=1e-05, momentum=0.1, affine=True, track_running_stats=True)\n",
              "      (relu): ReLU(inplace=True)\n",
              "    )\n",
              "    (4): Bottleneck(\n",
              "      (conv1): Conv2d(1024, 256, kernel_size=(1, 1), stride=(1, 1), bias=False)\n",
              "      (bn1): BatchNorm2d(256, eps=1e-05, momentum=0.1, affine=True, track_running_stats=True)\n",
              "      (conv2): Conv2d(256, 256, kernel_size=(3, 3), stride=(1, 1), padding=(1, 1), bias=False)\n",
              "      (bn2): BatchNorm2d(256, eps=1e-05, momentum=0.1, affine=True, track_running_stats=True)\n",
              "      (conv3): Conv2d(256, 1024, kernel_size=(1, 1), stride=(1, 1), bias=False)\n",
              "      (bn3): BatchNorm2d(1024, eps=1e-05, momentum=0.1, affine=True, track_running_stats=True)\n",
              "      (relu): ReLU(inplace=True)\n",
              "    )\n",
              "    (5): Bottleneck(\n",
              "      (conv1): Conv2d(1024, 256, kernel_size=(1, 1), stride=(1, 1), bias=False)\n",
              "      (bn1): BatchNorm2d(256, eps=1e-05, momentum=0.1, affine=True, track_running_stats=True)\n",
              "      (conv2): Conv2d(256, 256, kernel_size=(3, 3), stride=(1, 1), padding=(1, 1), bias=False)\n",
              "      (bn2): BatchNorm2d(256, eps=1e-05, momentum=0.1, affine=True, track_running_stats=True)\n",
              "      (conv3): Conv2d(256, 1024, kernel_size=(1, 1), stride=(1, 1), bias=False)\n",
              "      (bn3): BatchNorm2d(1024, eps=1e-05, momentum=0.1, affine=True, track_running_stats=True)\n",
              "      (relu): ReLU(inplace=True)\n",
              "    )\n",
              "  )\n",
              "  (layer4): Sequential(\n",
              "    (0): Bottleneck(\n",
              "      (conv1): Conv2d(1024, 512, kernel_size=(1, 1), stride=(1, 1), bias=False)\n",
              "      (bn1): BatchNorm2d(512, eps=1e-05, momentum=0.1, affine=True, track_running_stats=True)\n",
              "      (conv2): Conv2d(512, 512, kernel_size=(3, 3), stride=(2, 2), padding=(1, 1), bias=False)\n",
              "      (bn2): BatchNorm2d(512, eps=1e-05, momentum=0.1, affine=True, track_running_stats=True)\n",
              "      (conv3): Conv2d(512, 2048, kernel_size=(1, 1), stride=(1, 1), bias=False)\n",
              "      (bn3): BatchNorm2d(2048, eps=1e-05, momentum=0.1, affine=True, track_running_stats=True)\n",
              "      (relu): ReLU(inplace=True)\n",
              "      (downsample): Sequential(\n",
              "        (0): Conv2d(1024, 2048, kernel_size=(1, 1), stride=(2, 2), bias=False)\n",
              "        (1): BatchNorm2d(2048, eps=1e-05, momentum=0.1, affine=True, track_running_stats=True)\n",
              "      )\n",
              "    )\n",
              "    (1): Bottleneck(\n",
              "      (conv1): Conv2d(2048, 512, kernel_size=(1, 1), stride=(1, 1), bias=False)\n",
              "      (bn1): BatchNorm2d(512, eps=1e-05, momentum=0.1, affine=True, track_running_stats=True)\n",
              "      (conv2): Conv2d(512, 512, kernel_size=(3, 3), stride=(1, 1), padding=(1, 1), bias=False)\n",
              "      (bn2): BatchNorm2d(512, eps=1e-05, momentum=0.1, affine=True, track_running_stats=True)\n",
              "      (conv3): Conv2d(512, 2048, kernel_size=(1, 1), stride=(1, 1), bias=False)\n",
              "      (bn3): BatchNorm2d(2048, eps=1e-05, momentum=0.1, affine=True, track_running_stats=True)\n",
              "      (relu): ReLU(inplace=True)\n",
              "    )\n",
              "    (2): Bottleneck(\n",
              "      (conv1): Conv2d(2048, 512, kernel_size=(1, 1), stride=(1, 1), bias=False)\n",
              "      (bn1): BatchNorm2d(512, eps=1e-05, momentum=0.1, affine=True, track_running_stats=True)\n",
              "      (conv2): Conv2d(512, 512, kernel_size=(3, 3), stride=(1, 1), padding=(1, 1), bias=False)\n",
              "      (bn2): BatchNorm2d(512, eps=1e-05, momentum=0.1, affine=True, track_running_stats=True)\n",
              "      (conv3): Conv2d(512, 2048, kernel_size=(1, 1), stride=(1, 1), bias=False)\n",
              "      (bn3): BatchNorm2d(2048, eps=1e-05, momentum=0.1, affine=True, track_running_stats=True)\n",
              "      (relu): ReLU(inplace=True)\n",
              "    )\n",
              "  )\n",
              "  (avgpool): AdaptiveAvgPool2d(output_size=(1, 1))\n",
              "  (fc): Sequential(\n",
              "    (0): Linear(in_features=2048, out_features=1024, bias=True)\n",
              "    (1): ReLU(inplace=True)\n",
              "    (2): Dropout(p=0.5, inplace=False)\n",
              "    (3): Linear(in_features=1024, out_features=6, bias=True)\n",
              "  )\n",
              ")"
            ]
          },
          "metadata": {},
          "execution_count": 17
        }
      ]
    },
    {
      "cell_type": "code",
      "source": [
        "# Define your optimizer with weight decay\n",
        "optimizer = optim.SGD(pretrained_model.parameters(), lr=0.003, momentum=0.9, weight_decay=0.001)\n",
        "scheduler = optim.lr_scheduler.StepLR(optimizer, step_size=10, gamma=0.3)"
      ],
      "metadata": {
        "id": "C-92D6fV5AEa"
      },
      "execution_count": null,
      "outputs": []
    },
    {
      "cell_type": "code",
      "source": [
        "# optimizer = optim.Adam(pretrained_model.parameters(), lr=0.003, weight_decay=0.0001)"
      ],
      "metadata": {
        "id": "NNQ3FxxOlqvs"
      },
      "execution_count": null,
      "outputs": []
    },
    {
      "cell_type": "code",
      "source": [
        "# Define the loss function - For classification problem\n",
        "loss_function = nn.CrossEntropyLoss()"
      ],
      "metadata": {
        "id": "VmNIVEC5ArM1"
      },
      "execution_count": null,
      "outputs": []
    },
    {
      "cell_type": "code",
      "source": [
        "IMAGE_SIZE = 224\n",
        "data_transforms = {\n",
        "    \"train\":transforms.Compose([\n",
        "              transforms.RandomResizedCrop(size=(224,224)),\n",
        "              transforms.RandomRotation(30),\n",
        "              transforms.RandomHorizontalFlip(p=1),\n",
        "              transforms.RandomVerticalFlip(p=1),\n",
        "              # transforms.ColorJitter(brightness=(0.1, 0.3), contrast=(0.1, 0.3), saturation=(0.1, 0.3), hue=(0.1, 0.3)),\n",
        "              transforms.RandomAffine(degrees=(30, 70), translate=(0.0, 0.1), scale=(0.5, 0.7)),\n",
        "              transforms.ToTensor(),\n",
        "              transforms.Normalize(\n",
        "              mean=[0.485, 0.456, 0.406],\n",
        "              std=[0.229, 0.224, 0.225]\n",
        "          )]),\n",
        "    \"val\": transforms.Compose([\n",
        "              transforms.Resize((IMAGE_SIZE, IMAGE_SIZE)),\n",
        "              transforms.ToTensor(),\n",
        "              transforms.Normalize(\n",
        "              mean=[0.485, 0.456, 0.406],\n",
        "              std=[0.229, 0.224, 0.225]\n",
        "          )])\n",
        "}\n"
      ],
      "metadata": {
        "id": "z5_pQV35GqdD"
      },
      "execution_count": null,
      "outputs": []
    },
    {
      "cell_type": "code",
      "source": [
        "image_datasets = {x: datasets.ImageFolder(os.path.join(data_path, x), data_transforms[x]) for x in ['train', 'val']}"
      ],
      "metadata": {
        "id": "jzlRCoWTAhPd"
      },
      "execution_count": null,
      "outputs": []
    },
    {
      "cell_type": "code",
      "source": [
        "dataloaders = {x: torch.utils.data.DataLoader(image_datasets[x], batch_size=batch_size, shuffle=True, num_workers=num_workers) for x in ['train', 'val']}\n",
        "dataloaders"
      ],
      "metadata": {
        "colab": {
          "base_uri": "https://localhost:8080/"
        },
        "id": "O_ZGe8vtB2dh",
        "outputId": "915b883b-eab4-449e-ace4-debddb23085d"
      },
      "execution_count": null,
      "outputs": [
        {
          "output_type": "execute_result",
          "data": {
            "text/plain": [
              "{'train': <torch.utils.data.dataloader.DataLoader at 0x78d69a563460>,\n",
              " 'val': <torch.utils.data.dataloader.DataLoader at 0x78d69a560400>}"
            ]
          },
          "metadata": {},
          "execution_count": 23
        }
      ]
    },
    {
      "cell_type": "code",
      "source": [
        "dataset_sizes = {x: len(image_datasets[x]) for x in ['train', 'val']}\n",
        "dataset_sizes"
      ],
      "metadata": {
        "colab": {
          "base_uri": "https://localhost:8080/"
        },
        "id": "vJU9m-csB38a",
        "outputId": "fcabf5d5-b556-47ae-cca3-7ba4fe44e83f"
      },
      "execution_count": null,
      "outputs": [
        {
          "output_type": "execute_result",
          "data": {
            "text/plain": [
              "{'train': 451, 'val': 54}"
            ]
          },
          "metadata": {},
          "execution_count": 24
        }
      ]
    },
    {
      "cell_type": "code",
      "source": [
        "class_names = image_datasets['train'].classes\n",
        "class_names"
      ],
      "metadata": {
        "colab": {
          "base_uri": "https://localhost:8080/"
        },
        "id": "nJWQrXmGBq-g",
        "outputId": "04814e8a-21f2-48c5-eaaa-6da594c424af"
      },
      "execution_count": null,
      "outputs": [
        {
          "output_type": "execute_result",
          "data": {
            "text/plain": [
              "['Bishop', 'King', 'Knight', 'Pawn', 'Queen', 'Rook']"
            ]
          },
          "metadata": {},
          "execution_count": 25
        }
      ]
    },
    {
      "cell_type": "code",
      "source": [
        "train_losses = []  # To store the losses for plotting\n",
        "val_losses = []  # To store the losses for plotting\n",
        "best_val_loss = float('inf')  # Initialize with a very large value\n",
        "best_val_acc = 0\n",
        "use_val_acc = True"
      ],
      "metadata": {
        "id": "OEjAqxdsJKY0"
      },
      "execution_count": null,
      "outputs": []
    },
    {
      "cell_type": "code",
      "source": [
        "# Train the model\n",
        "for epoch in range(num_epochs):\n",
        "\n",
        "    # Train the model on the training set\n",
        "    pretrained_model.train()\n",
        "    # Initialize the training loss accumulator to zero\n",
        "    training_loss = 0.0\n",
        "\n",
        "    for i, (image, labels) in enumerate(dataloaders[\"train\"]):\n",
        "        # Prepare data and send it to the proper device\n",
        "        image = image.to(device)\n",
        "        labels = labels.to(device)\n",
        "\n",
        "        # Clear the gradients of all optimized parameters\n",
        "        optimizer.zero_grad()\n",
        "\n",
        "        # Forward pass: obtain model predictions for the input data\n",
        "        outputs = pretrained_model(image)\n",
        "        loss = loss_function(outputs, labels)\n",
        "\n",
        "        # Backward pass: compute gradients of the loss with respect to model parameters\n",
        "        loss.backward()\n",
        "\n",
        "        # Update model parameters using the computed gradients and the optimizer\n",
        "        optimizer.step()\n",
        "\n",
        "        # Update the training loss\n",
        "        training_loss += loss.item() * image.size(0)\n",
        "\n",
        "    # Calculate average training loss\n",
        "    train_loss = training_loss / dataset_sizes[\"train\"]\n",
        "    train_losses.append(train_loss)\n",
        "    scheduler.step()\n",
        "\n",
        "    # Evaluate the model on the validation set\n",
        "    pretrained_model.eval()\n",
        "    val_loss = 0.0\n",
        "    correct_preds = 0\n",
        "    total_samples = 0\n",
        "    all_labels = []\n",
        "    all_pred = []\n",
        "    with torch.no_grad():\n",
        "        for image, labels in dataloaders[\"val\"]:\n",
        "            # Prepare data and send it to the proper device\n",
        "            image = image.to(device)\n",
        "            labels = labels.to(device)\n",
        "\n",
        "            # Forward pass: obtain model predictions for the input data\n",
        "            outputs = pretrained_model(image)\n",
        "            _, predicted = torch.max(outputs, 1)\n",
        "\n",
        "            # Compute the loss between the model predictions and the true labels\n",
        "            loss = loss_function(outputs, labels)\n",
        "\n",
        "            # Update the validation loss\n",
        "            val_loss += loss.item() * image.size(0)\n",
        "\n",
        "            # Round up and down to either 1 or 0\n",
        "            total_samples += labels.size(0)\n",
        "            # Calculate how many images were correctly classified\n",
        "            predicted =  predicted.view(1, -1)\n",
        "            labels = labels.view(1, -1)\n",
        "            correct_preds += torch.sum(torch.eq(predicted, labels), dim=1).item()\n",
        "\n",
        "            all_labels.extend(labels.cpu().numpy())\n",
        "            all_pred.extend(predicted.cpu().numpy())\n",
        "\n",
        "    # Calculate validation loss\n",
        "    val_loss /= dataset_sizes[\"val\"]\n",
        "    val_losses.append(val_loss) # To store the losses for plotting\n",
        "\n",
        "    # Calculate validation accuracy\n",
        "    val_acc = correct_preds / total_samples #* 100\n",
        "\n",
        "    # Print validation loss and accuracy\n",
        "    print(f\"Epoch [{epoch + 1}/{num_epochs}] Train Loss: {train_loss:.4f}  Validation Loss: {val_loss:.4f}, Validation Accuracy: {val_acc:.2f}%\")\n",
        "\n",
        "    # Save the model if it performs better on validation set\n",
        "\n",
        "    if use_val_acc:\n",
        "      if val_acc > best_val_acc:\n",
        "        best_val_acc = val_acc\n",
        "        torch.save(pretrained_model.state_dict(), f'/content/drive/MyDrive/AllTalentZ/models/train/best_model_epoch_{epoch + 1}--val_acc_{best_val_acc:.2f}.pth')\n",
        "    else:\n",
        "      if val_loss < best_val_loss:\n",
        "          best_val_loss = val_loss\n",
        "          torch.save(pretrained_model.state_dict(), f'/content/drive/MyDrive/AllTalentZ/models/train/best_model_epoch_{epoch + 1}--val_loss_{best_val_loss:.4f}.pth')\n",
        "\n",
        "print('Finished Training')"
      ],
      "metadata": {
        "colab": {
          "base_uri": "https://localhost:8080/"
        },
        "id": "GU9k0qf5ArKU",
        "outputId": "3dec81a4-a0b5-4423-f9d8-19b835ddbff0"
      },
      "execution_count": null,
      "outputs": [
        {
          "output_type": "stream",
          "name": "stdout",
          "text": [
            "Epoch [1/150] Train Loss: 1.6131  Validation Loss: 1.6518, Validation Accuracy: 0.41%\n",
            "Epoch [2/150] Train Loss: 1.5854  Validation Loss: 1.6432, Validation Accuracy: 0.39%\n",
            "Epoch [3/150] Train Loss: 1.5995  Validation Loss: 1.6638, Validation Accuracy: 0.46%\n",
            "Epoch [4/150] Train Loss: 1.6068  Validation Loss: 1.6715, Validation Accuracy: 0.43%\n",
            "Epoch [5/150] Train Loss: 1.5982  Validation Loss: 1.6698, Validation Accuracy: 0.44%\n",
            "Epoch [6/150] Train Loss: 1.5795  Validation Loss: 1.6750, Validation Accuracy: 0.44%\n",
            "Epoch [7/150] Train Loss: 1.6047  Validation Loss: 1.6648, Validation Accuracy: 0.41%\n",
            "Epoch [8/150] Train Loss: 1.5822  Validation Loss: 1.6503, Validation Accuracy: 0.46%\n",
            "Epoch [9/150] Train Loss: 1.6013  Validation Loss: 1.6733, Validation Accuracy: 0.44%\n",
            "Epoch [10/150] Train Loss: 1.5783  Validation Loss: 1.6444, Validation Accuracy: 0.46%\n",
            "Epoch [11/150] Train Loss: 1.5977  Validation Loss: 1.6457, Validation Accuracy: 0.44%\n",
            "Epoch [12/150] Train Loss: 1.5946  Validation Loss: 1.7046, Validation Accuracy: 0.41%\n",
            "Epoch [13/150] Train Loss: 1.6034  Validation Loss: 1.6472, Validation Accuracy: 0.44%\n",
            "Epoch [14/150] Train Loss: 1.5875  Validation Loss: 1.6536, Validation Accuracy: 0.43%\n",
            "Epoch [15/150] Train Loss: 1.6020  Validation Loss: 1.6704, Validation Accuracy: 0.41%\n",
            "Epoch [16/150] Train Loss: 1.5761  Validation Loss: 1.6453, Validation Accuracy: 0.39%\n",
            "Epoch [17/150] Train Loss: 1.5951  Validation Loss: 1.6665, Validation Accuracy: 0.43%\n",
            "Epoch [18/150] Train Loss: 1.6360  Validation Loss: 1.6623, Validation Accuracy: 0.41%\n",
            "Epoch [19/150] Train Loss: 1.6293  Validation Loss: 1.6607, Validation Accuracy: 0.41%\n",
            "Epoch [20/150] Train Loss: 1.5980  Validation Loss: 1.6593, Validation Accuracy: 0.46%\n",
            "Epoch [21/150] Train Loss: 1.5999  Validation Loss: 1.6588, Validation Accuracy: 0.46%\n",
            "Epoch [22/150] Train Loss: 1.5987  Validation Loss: 1.6403, Validation Accuracy: 0.50%\n",
            "Epoch [23/150] Train Loss: 1.6093  Validation Loss: 1.6658, Validation Accuracy: 0.44%\n",
            "Epoch [24/150] Train Loss: 1.6056  Validation Loss: 1.6662, Validation Accuracy: 0.43%\n",
            "Epoch [25/150] Train Loss: 1.5978  Validation Loss: 1.6574, Validation Accuracy: 0.39%\n",
            "Epoch [26/150] Train Loss: 1.5941  Validation Loss: 1.6570, Validation Accuracy: 0.46%\n",
            "Epoch [27/150] Train Loss: 1.6052  Validation Loss: 1.6626, Validation Accuracy: 0.44%\n",
            "Epoch [28/150] Train Loss: 1.5806  Validation Loss: 1.6412, Validation Accuracy: 0.43%\n",
            "Epoch [29/150] Train Loss: 1.5992  Validation Loss: 1.6792, Validation Accuracy: 0.46%\n",
            "Epoch [30/150] Train Loss: 1.6134  Validation Loss: 1.6584, Validation Accuracy: 0.48%\n",
            "Epoch [31/150] Train Loss: 1.6012  Validation Loss: 1.6628, Validation Accuracy: 0.44%\n",
            "Epoch [32/150] Train Loss: 1.5884  Validation Loss: 1.6426, Validation Accuracy: 0.39%\n",
            "Epoch [33/150] Train Loss: 1.5897  Validation Loss: 1.6688, Validation Accuracy: 0.44%\n",
            "Epoch [34/150] Train Loss: 1.5826  Validation Loss: 1.6824, Validation Accuracy: 0.43%\n",
            "Epoch [35/150] Train Loss: 1.6022  Validation Loss: 1.7526, Validation Accuracy: 0.43%\n",
            "Epoch [36/150] Train Loss: 1.5978  Validation Loss: 1.6473, Validation Accuracy: 0.44%\n",
            "Epoch [37/150] Train Loss: 1.5895  Validation Loss: 1.6509, Validation Accuracy: 0.44%\n",
            "Epoch [38/150] Train Loss: 1.6108  Validation Loss: 1.6509, Validation Accuracy: 0.43%\n",
            "Epoch [39/150] Train Loss: 1.5943  Validation Loss: 1.6542, Validation Accuracy: 0.41%\n",
            "Epoch [40/150] Train Loss: 1.6088  Validation Loss: 1.6517, Validation Accuracy: 0.41%\n",
            "Epoch [41/150] Train Loss: 1.6109  Validation Loss: 1.6557, Validation Accuracy: 0.41%\n",
            "Epoch [42/150] Train Loss: 1.6041  Validation Loss: 1.6555, Validation Accuracy: 0.43%\n",
            "Epoch [43/150] Train Loss: 1.5937  Validation Loss: 1.6478, Validation Accuracy: 0.44%\n",
            "Epoch [44/150] Train Loss: 1.6020  Validation Loss: 1.6516, Validation Accuracy: 0.44%\n",
            "Epoch [45/150] Train Loss: 1.5966  Validation Loss: 1.6861, Validation Accuracy: 0.43%\n",
            "Epoch [46/150] Train Loss: 1.5963  Validation Loss: 1.6443, Validation Accuracy: 0.41%\n",
            "Epoch [47/150] Train Loss: 1.6231  Validation Loss: 1.7033, Validation Accuracy: 0.43%\n",
            "Epoch [48/150] Train Loss: 1.5968  Validation Loss: 1.6621, Validation Accuracy: 0.43%\n",
            "Epoch [49/150] Train Loss: 1.5970  Validation Loss: 1.6434, Validation Accuracy: 0.44%\n",
            "Epoch [50/150] Train Loss: 1.5915  Validation Loss: 1.6506, Validation Accuracy: 0.44%\n",
            "Epoch [51/150] Train Loss: 1.5947  Validation Loss: 1.6495, Validation Accuracy: 0.44%\n",
            "Epoch [52/150] Train Loss: 1.6069  Validation Loss: 1.6645, Validation Accuracy: 0.46%\n",
            "Epoch [53/150] Train Loss: 1.5904  Validation Loss: 1.6879, Validation Accuracy: 0.44%\n",
            "Epoch [54/150] Train Loss: 1.5812  Validation Loss: 1.6599, Validation Accuracy: 0.46%\n",
            "Epoch [55/150] Train Loss: 1.5994  Validation Loss: 1.6749, Validation Accuracy: 0.44%\n",
            "Epoch [56/150] Train Loss: 1.5877  Validation Loss: 1.6843, Validation Accuracy: 0.44%\n",
            "Epoch [57/150] Train Loss: 1.6023  Validation Loss: 1.6611, Validation Accuracy: 0.46%\n",
            "Epoch [58/150] Train Loss: 1.5858  Validation Loss: 1.6474, Validation Accuracy: 0.46%\n",
            "Epoch [59/150] Train Loss: 1.6082  Validation Loss: 1.6527, Validation Accuracy: 0.43%\n",
            "Epoch [60/150] Train Loss: 1.6056  Validation Loss: 1.7387, Validation Accuracy: 0.50%\n",
            "Epoch [61/150] Train Loss: 1.6038  Validation Loss: 1.6868, Validation Accuracy: 0.46%\n",
            "Epoch [62/150] Train Loss: 1.5967  Validation Loss: 1.6698, Validation Accuracy: 0.46%\n",
            "Epoch [63/150] Train Loss: 1.6122  Validation Loss: 1.6477, Validation Accuracy: 0.43%\n",
            "Epoch [64/150] Train Loss: 1.6065  Validation Loss: 1.6821, Validation Accuracy: 0.44%\n",
            "Epoch [65/150] Train Loss: 1.5939  Validation Loss: 1.6570, Validation Accuracy: 0.46%\n",
            "Epoch [66/150] Train Loss: 1.5890  Validation Loss: 1.6784, Validation Accuracy: 0.46%\n",
            "Epoch [67/150] Train Loss: 1.5826  Validation Loss: 1.6874, Validation Accuracy: 0.43%\n",
            "Epoch [68/150] Train Loss: 1.5926  Validation Loss: 1.6463, Validation Accuracy: 0.44%\n",
            "Epoch [69/150] Train Loss: 1.6080  Validation Loss: 1.6563, Validation Accuracy: 0.43%\n",
            "Epoch [70/150] Train Loss: 1.6042  Validation Loss: 1.7106, Validation Accuracy: 0.43%\n",
            "Epoch [71/150] Train Loss: 1.6124  Validation Loss: 1.6733, Validation Accuracy: 0.37%\n",
            "Epoch [72/150] Train Loss: 1.6061  Validation Loss: 1.7220, Validation Accuracy: 0.43%\n",
            "Epoch [73/150] Train Loss: 1.5910  Validation Loss: 1.6667, Validation Accuracy: 0.43%\n",
            "Epoch [74/150] Train Loss: 1.5922  Validation Loss: 1.6539, Validation Accuracy: 0.44%\n",
            "Epoch [75/150] Train Loss: 1.6081  Validation Loss: 1.6491, Validation Accuracy: 0.44%\n",
            "Epoch [76/150] Train Loss: 1.6025  Validation Loss: 1.6573, Validation Accuracy: 0.43%\n",
            "Epoch [77/150] Train Loss: 1.5825  Validation Loss: 1.6704, Validation Accuracy: 0.41%\n",
            "Epoch [78/150] Train Loss: 1.6008  Validation Loss: 1.6493, Validation Accuracy: 0.46%\n",
            "Epoch [79/150] Train Loss: 1.5830  Validation Loss: 1.6914, Validation Accuracy: 0.44%\n",
            "Epoch [80/150] Train Loss: 1.6215  Validation Loss: 1.7021, Validation Accuracy: 0.44%\n",
            "Epoch [81/150] Train Loss: 1.6008  Validation Loss: 1.6496, Validation Accuracy: 0.44%\n",
            "Epoch [82/150] Train Loss: 1.5921  Validation Loss: 1.6442, Validation Accuracy: 0.44%\n",
            "Epoch [83/150] Train Loss: 1.5920  Validation Loss: 1.6715, Validation Accuracy: 0.44%\n",
            "Epoch [84/150] Train Loss: 1.5844  Validation Loss: 1.9116, Validation Accuracy: 0.44%\n",
            "Epoch [85/150] Train Loss: 1.5946  Validation Loss: 1.6714, Validation Accuracy: 0.46%\n"
          ]
        }
      ]
    },
    {
      "cell_type": "code",
      "source": [
        "# Plotting the evolution of loss\n",
        "plt.plot(train_losses, label='Training Loss')\n",
        "plt.xlabel('Epoch')\n",
        "plt.ylabel('Loss')\n",
        "plt.title('Evolution of Training Loss')\n",
        "plt.legend()\n",
        "plt.show()"
      ],
      "metadata": {
        "id": "twOh3w3pTnd5"
      },
      "execution_count": null,
      "outputs": []
    },
    {
      "cell_type": "code",
      "source": [
        "# Plotting the evolution of loss\n",
        "plt.plot(val_losses, label='Validation Loss')\n",
        "plt.xlabel('Epoch')\n",
        "plt.ylabel('Loss')\n",
        "plt.title('Evolution of Validation Loss')\n",
        "plt.legend()\n",
        "plt.show()"
      ],
      "metadata": {
        "id": "0yoY1fCyTpx8"
      },
      "execution_count": null,
      "outputs": []
    },
    {
      "cell_type": "code",
      "source": [
        "# Calculate metrics\n",
        "predicted = predicted.cpu().numpy()\n",
        "labels =  labels.cpu().numpy()"
      ],
      "metadata": {
        "id": "B-vMtW_AOoEC"
      },
      "execution_count": null,
      "outputs": []
    },
    {
      "cell_type": "markdown",
      "source": [],
      "metadata": {
        "id": "tAfeIuTk698R"
      }
    }
  ]
}